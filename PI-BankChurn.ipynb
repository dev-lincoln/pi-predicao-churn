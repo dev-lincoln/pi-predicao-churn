{
 "cells": [
  {
   "cell_type": "markdown",
   "id": "ec3c2ca7-c889-4cb6-b7d0-ae0bebdbbffc",
   "metadata": {},
   "source": [
    "### IMPORTS"
   ]
  },
  {
   "cell_type": "code",
   "execution_count": 1,
   "id": "77d50277",
   "metadata": {},
   "outputs": [],
   "source": [
    "!pip install -q scikit-optimize"
   ]
  },
  {
   "cell_type": "code",
   "execution_count": 2,
   "id": "d21d3908-bf81-4f4a-896e-1690d1bcbf18",
   "metadata": {
    "tags": []
   },
   "outputs": [
    {
     "name": "stdout",
     "output_type": "stream",
     "text": [
      "Defaulting to user installation because normal site-packages is not writeable\n",
      "Collecting category_encoders\n",
      "  Using cached category_encoders-2.5.0-py2.py3-none-any.whl (69 kB)\n",
      "Requirement already satisfied: numpy>=1.14.0 in c:\\users\\pichau\\appdata\\roaming\\python\\python310\\site-packages (from category_encoders) (1.23.3)\n",
      "Requirement already satisfied: pandas>=1.0.5 in c:\\users\\pichau\\appdata\\roaming\\python\\python310\\site-packages (from category_encoders) (1.5.0)\n",
      "Collecting statsmodels>=0.9.0\n",
      "  Downloading statsmodels-0.13.2-cp310-cp310-win_amd64.whl (9.1 MB)\n",
      "     ---------------------------------------- 9.1/9.1 MB 7.0 MB/s eta 0:00:00\n",
      "Collecting patsy>=0.5.1\n",
      "  Downloading patsy-0.5.2-py2.py3-none-any.whl (233 kB)\n",
      "     ------------------------------------- 233.7/233.7 kB 14.9 MB/s eta 0:00:00\n",
      "Requirement already satisfied: scikit-learn>=0.20.0 in c:\\program files\\python310\\lib\\site-packages (from category_encoders) (1.0.2)\n",
      "Requirement already satisfied: scipy>=1.0.0 in c:\\users\\pichau\\appdata\\roaming\\python\\python310\\site-packages (from category_encoders) (1.9.1)\n",
      "Requirement already satisfied: python-dateutil>=2.8.1 in c:\\program files\\python310\\lib\\site-packages (from pandas>=1.0.5->category_encoders) (2.8.2)\n",
      "Requirement already satisfied: pytz>=2020.1 in c:\\program files\\python310\\lib\\site-packages (from pandas>=1.0.5->category_encoders) (2022.2.1)\n",
      "Requirement already satisfied: six in c:\\program files\\python310\\lib\\site-packages (from patsy>=0.5.1->category_encoders) (1.16.0)\n",
      "Requirement already satisfied: joblib>=0.11 in c:\\users\\pichau\\appdata\\roaming\\python\\python310\\site-packages (from scikit-learn>=0.20.0->category_encoders) (1.2.0)\n",
      "Requirement already satisfied: threadpoolctl>=2.0.0 in c:\\users\\pichau\\appdata\\roaming\\python\\python310\\site-packages (from scikit-learn>=0.20.0->category_encoders) (3.1.0)\n",
      "Requirement already satisfied: packaging>=21.3 in c:\\program files\\python310\\lib\\site-packages (from statsmodels>=0.9.0->category_encoders) (21.3)\n",
      "Requirement already satisfied: pyparsing!=3.0.5,>=2.0.2 in c:\\program files\\python310\\lib\\site-packages (from packaging>=21.3->statsmodels>=0.9.0->category_encoders) (3.0.9)\n",
      "Installing collected packages: patsy, statsmodels, category_encoders\n",
      "Successfully installed category_encoders-2.5.0 patsy-0.5.2 statsmodels-0.13.2\n"
     ]
    }
   ],
   "source": [
    "!pip install category_encoders"
   ]
  },
  {
   "cell_type": "code",
   "execution_count": 3,
   "id": "d42e9e46-be3c-4a59-82ed-5faf1ad3d7b6",
   "metadata": {},
   "outputs": [
    {
     "name": "stdout",
     "output_type": "stream",
     "text": [
      "Defaulting to user installation because normal site-packages is not writeable\n",
      "Requirement already satisfied: xgboost in c:\\users\\pichau\\appdata\\roaming\\python\\python310\\site-packages (1.6.2)\n",
      "Requirement already satisfied: scipy in c:\\users\\pichau\\appdata\\roaming\\python\\python310\\site-packages (from xgboost) (1.9.1)\n",
      "Requirement already satisfied: numpy in c:\\users\\pichau\\appdata\\roaming\\python\\python310\\site-packages (from xgboost) (1.23.3)\n"
     ]
    }
   ],
   "source": [
    "!pip install xgboost"
   ]
  },
  {
   "cell_type": "code",
   "execution_count": 10,
   "id": "baaf6d8b",
   "metadata": {
    "tags": []
   },
   "outputs": [
    {
     "ename": "ModuleNotFoundError",
     "evalue": "No module named 'seaborn'",
     "output_type": "error",
     "traceback": [
      "\u001B[1;31m---------------------------------------------------------------------------\u001B[0m",
      "\u001B[1;31mModuleNotFoundError\u001B[0m                       Traceback (most recent call last)",
      "Cell \u001B[1;32mIn [10], line 11\u001B[0m\n\u001B[0;32m      9\u001B[0m \u001B[38;5;28;01mimport\u001B[39;00m \u001B[38;5;21;01mnumpy\u001B[39;00m \u001B[38;5;28;01mas\u001B[39;00m \u001B[38;5;21;01mnp\u001B[39;00m\n\u001B[0;32m     10\u001B[0m \u001B[38;5;28;01mfrom\u001B[39;00m \u001B[38;5;21;01mscipy\u001B[39;00m \u001B[38;5;28;01mimport\u001B[39;00m stats\n\u001B[1;32m---> 11\u001B[0m \u001B[38;5;28;01mimport\u001B[39;00m \u001B[38;5;21;01mseaborn\u001B[39;00m \u001B[38;5;28;01mas\u001B[39;00m \u001B[38;5;21;01msns\u001B[39;00m\n\u001B[0;32m     12\u001B[0m \u001B[38;5;28;01mimport\u001B[39;00m \u001B[38;5;21;01mmatplotlib\u001B[39;00m\u001B[38;5;21;01m.\u001B[39;00m\u001B[38;5;21;01mpyplot\u001B[39;00m \u001B[38;5;28;01mas\u001B[39;00m \u001B[38;5;21;01mplt\u001B[39;00m\n\u001B[0;32m     14\u001B[0m \u001B[38;5;28;01mfrom\u001B[39;00m \u001B[38;5;21;01msklearn\u001B[39;00m\u001B[38;5;21;01m.\u001B[39;00m\u001B[38;5;21;01mimpute\u001B[39;00m \u001B[38;5;28;01mimport\u001B[39;00m SimpleImputer\n",
      "\u001B[1;31mModuleNotFoundError\u001B[0m: No module named 'seaborn'"
     ]
    }
   ],
   "source": [
    "import os\n",
    "import math\n",
    "import timeit\n",
    "from collections import Counter\n",
    "import gc\n",
    "import pickle\n",
    "\n",
    "import pandas as pd\n",
    "import numpy as np\n",
    "from scipy import stats\n",
    "import seaborn as sns\n",
    "import matplotlib.pyplot as plt\n",
    "\n",
    "from sklearn.impute import SimpleImputer\n",
    "from sklearn.metrics import roc_auc_score, confusion_matrix, f1_score\n",
    "from sklearn.model_selection import cross_val_score, cross_validate\n",
    "from sklearn.feature_selection import mutual_info_classif as MIC\n",
    "from sklearn.model_selection import train_test_split\n",
    "from sklearn.model_selection import GridSearchCV\n",
    "\n",
    "import category_encoders as ce\n",
    "\n",
    "from sklearn import metrics, tree\n",
    "from sklearn.linear_model import LogisticRegression\n",
    "from sklearn.ensemble import RandomForestClassifier\n",
    "from sklearn.ensemble import GradientBoostingClassifier\n",
    "from sklearn.preprocessing import OneHotEncoder\n",
    "from sklearn.preprocessing import MinMaxScaler, StandardScaler\n",
    "from IPython.display import display, display_html\n",
    "import xgboost as xgb"
   ]
  },
  {
   "cell_type": "code",
   "execution_count": null,
   "id": "9714849c-69b7-4b58-85e7-3c85c469f887",
   "metadata": {},
   "outputs": [],
   "source": []
  },
  {
   "cell_type": "markdown",
   "id": "6c2724c5-8c86-4f14-a8f9-2bb6e505ba80",
   "metadata": {
    "tags": []
   },
   "source": [
    "### UDFs"
   ]
  },
  {
   "cell_type": "code",
   "execution_count": null,
   "id": "a1a842e4",
   "metadata": {},
   "outputs": [],
   "source": [
    "def my_print(s):\n",
    "    \"\"\"\n",
    "    Custom print with timestamp.\n",
    "    \"\"\"\n",
    "    print(\"[{}] {}\".format(datetime.now().strftime('%d/%m/%Y %H:%M:%S'), s))"
   ]
  },
  {
   "cell_type": "code",
   "execution_count": null,
   "id": "92d3827b-6114-47cb-b45f-3af28fd9107e",
   "metadata": {},
   "outputs": [],
   "source": [
    "def get_missing_values(pdf):\n",
    "        \"\"\"\n",
    "        Retorna um Pandas Series com as colunas que tem ao\n",
    "        menos um missing value.\n",
    "        \"\"\"\n",
    "        \n",
    "        missing = pdf.isnull().sum()\n",
    "        return missing[missing > 0]"
   ]
  },
  {
   "cell_type": "markdown",
   "id": "05b3afea",
   "metadata": {
    "execution": {
     "iopub.execute_input": "2022-08-08T15:41:01.656152Z",
     "iopub.status.busy": "2022-08-08T15:41:01.655914Z",
     "iopub.status.idle": "2022-08-08T15:41:09.940244Z",
     "shell.execute_reply": "2022-08-08T15:41:09.939462Z",
     "shell.execute_reply.started": "2022-08-08T15:41:01.656120Z"
    },
    "tags": []
   },
   "source": [
    "### LOAD DATA"
   ]
  },
  {
   "cell_type": "code",
   "execution_count": 13,
   "id": "77eabd95-e3a9-41ae-bc9e-638895737259",
   "metadata": {},
   "outputs": [
    {
     "ename": "FileNotFoundError",
     "evalue": "[Errno 2] No such file or directory: 'Documents/Deploy2/pi-predicao-churn/data/Churn Modeling.csv'",
     "output_type": "error",
     "traceback": [
      "\u001B[1;31m---------------------------------------------------------------------------\u001B[0m",
      "\u001B[1;31mFileNotFoundError\u001B[0m                         Traceback (most recent call last)",
      "Cell \u001B[1;32mIn [13], line 1\u001B[0m\n\u001B[1;32m----> 1\u001B[0m df \u001B[38;5;241m=\u001B[39m \u001B[43mpd\u001B[49m\u001B[38;5;241;43m.\u001B[39;49m\u001B[43mread_csv\u001B[49m\u001B[43m(\u001B[49m\u001B[38;5;124;43m\"\u001B[39;49m\u001B[38;5;124;43mDocuments/Deploy2/pi-predicao-churn/data/Churn Modeling.csv\u001B[39;49m\u001B[38;5;124;43m\"\u001B[39;49m\u001B[43m)\u001B[49m\n",
      "File \u001B[1;32m~\\AppData\\Roaming\\Python\\Python310\\site-packages\\pandas\\util\\_decorators.py:211\u001B[0m, in \u001B[0;36mdeprecate_kwarg.<locals>._deprecate_kwarg.<locals>.wrapper\u001B[1;34m(*args, **kwargs)\u001B[0m\n\u001B[0;32m    209\u001B[0m     \u001B[38;5;28;01melse\u001B[39;00m:\n\u001B[0;32m    210\u001B[0m         kwargs[new_arg_name] \u001B[38;5;241m=\u001B[39m new_arg_value\n\u001B[1;32m--> 211\u001B[0m \u001B[38;5;28;01mreturn\u001B[39;00m func(\u001B[38;5;241m*\u001B[39margs, \u001B[38;5;241m*\u001B[39m\u001B[38;5;241m*\u001B[39mkwargs)\n",
      "File \u001B[1;32m~\\AppData\\Roaming\\Python\\Python310\\site-packages\\pandas\\util\\_decorators.py:317\u001B[0m, in \u001B[0;36mdeprecate_nonkeyword_arguments.<locals>.decorate.<locals>.wrapper\u001B[1;34m(*args, **kwargs)\u001B[0m\n\u001B[0;32m    311\u001B[0m \u001B[38;5;28;01mif\u001B[39;00m \u001B[38;5;28mlen\u001B[39m(args) \u001B[38;5;241m>\u001B[39m num_allow_args:\n\u001B[0;32m    312\u001B[0m     warnings\u001B[38;5;241m.\u001B[39mwarn(\n\u001B[0;32m    313\u001B[0m         msg\u001B[38;5;241m.\u001B[39mformat(arguments\u001B[38;5;241m=\u001B[39marguments),\n\u001B[0;32m    314\u001B[0m         \u001B[38;5;167;01mFutureWarning\u001B[39;00m,\n\u001B[0;32m    315\u001B[0m         stacklevel\u001B[38;5;241m=\u001B[39mfind_stack_level(inspect\u001B[38;5;241m.\u001B[39mcurrentframe()),\n\u001B[0;32m    316\u001B[0m     )\n\u001B[1;32m--> 317\u001B[0m \u001B[38;5;28;01mreturn\u001B[39;00m func(\u001B[38;5;241m*\u001B[39margs, \u001B[38;5;241m*\u001B[39m\u001B[38;5;241m*\u001B[39mkwargs)\n",
      "File \u001B[1;32m~\\AppData\\Roaming\\Python\\Python310\\site-packages\\pandas\\io\\parsers\\readers.py:950\u001B[0m, in \u001B[0;36mread_csv\u001B[1;34m(filepath_or_buffer, sep, delimiter, header, names, index_col, usecols, squeeze, prefix, mangle_dupe_cols, dtype, engine, converters, true_values, false_values, skipinitialspace, skiprows, skipfooter, nrows, na_values, keep_default_na, na_filter, verbose, skip_blank_lines, parse_dates, infer_datetime_format, keep_date_col, date_parser, dayfirst, cache_dates, iterator, chunksize, compression, thousands, decimal, lineterminator, quotechar, quoting, doublequote, escapechar, comment, encoding, encoding_errors, dialect, error_bad_lines, warn_bad_lines, on_bad_lines, delim_whitespace, low_memory, memory_map, float_precision, storage_options)\u001B[0m\n\u001B[0;32m    935\u001B[0m kwds_defaults \u001B[38;5;241m=\u001B[39m _refine_defaults_read(\n\u001B[0;32m    936\u001B[0m     dialect,\n\u001B[0;32m    937\u001B[0m     delimiter,\n\u001B[1;32m   (...)\u001B[0m\n\u001B[0;32m    946\u001B[0m     defaults\u001B[38;5;241m=\u001B[39m{\u001B[38;5;124m\"\u001B[39m\u001B[38;5;124mdelimiter\u001B[39m\u001B[38;5;124m\"\u001B[39m: \u001B[38;5;124m\"\u001B[39m\u001B[38;5;124m,\u001B[39m\u001B[38;5;124m\"\u001B[39m},\n\u001B[0;32m    947\u001B[0m )\n\u001B[0;32m    948\u001B[0m kwds\u001B[38;5;241m.\u001B[39mupdate(kwds_defaults)\n\u001B[1;32m--> 950\u001B[0m \u001B[38;5;28;01mreturn\u001B[39;00m \u001B[43m_read\u001B[49m\u001B[43m(\u001B[49m\u001B[43mfilepath_or_buffer\u001B[49m\u001B[43m,\u001B[49m\u001B[43m \u001B[49m\u001B[43mkwds\u001B[49m\u001B[43m)\u001B[49m\n",
      "File \u001B[1;32m~\\AppData\\Roaming\\Python\\Python310\\site-packages\\pandas\\io\\parsers\\readers.py:605\u001B[0m, in \u001B[0;36m_read\u001B[1;34m(filepath_or_buffer, kwds)\u001B[0m\n\u001B[0;32m    602\u001B[0m _validate_names(kwds\u001B[38;5;241m.\u001B[39mget(\u001B[38;5;124m\"\u001B[39m\u001B[38;5;124mnames\u001B[39m\u001B[38;5;124m\"\u001B[39m, \u001B[38;5;28;01mNone\u001B[39;00m))\n\u001B[0;32m    604\u001B[0m \u001B[38;5;66;03m# Create the parser.\u001B[39;00m\n\u001B[1;32m--> 605\u001B[0m parser \u001B[38;5;241m=\u001B[39m TextFileReader(filepath_or_buffer, \u001B[38;5;241m*\u001B[39m\u001B[38;5;241m*\u001B[39mkwds)\n\u001B[0;32m    607\u001B[0m \u001B[38;5;28;01mif\u001B[39;00m chunksize \u001B[38;5;129;01mor\u001B[39;00m iterator:\n\u001B[0;32m    608\u001B[0m     \u001B[38;5;28;01mreturn\u001B[39;00m parser\n",
      "File \u001B[1;32m~\\AppData\\Roaming\\Python\\Python310\\site-packages\\pandas\\io\\parsers\\readers.py:1442\u001B[0m, in \u001B[0;36mTextFileReader.__init__\u001B[1;34m(self, f, engine, **kwds)\u001B[0m\n\u001B[0;32m   1439\u001B[0m     \u001B[38;5;28mself\u001B[39m\u001B[38;5;241m.\u001B[39moptions[\u001B[38;5;124m\"\u001B[39m\u001B[38;5;124mhas_index_names\u001B[39m\u001B[38;5;124m\"\u001B[39m] \u001B[38;5;241m=\u001B[39m kwds[\u001B[38;5;124m\"\u001B[39m\u001B[38;5;124mhas_index_names\u001B[39m\u001B[38;5;124m\"\u001B[39m]\n\u001B[0;32m   1441\u001B[0m \u001B[38;5;28mself\u001B[39m\u001B[38;5;241m.\u001B[39mhandles: IOHandles \u001B[38;5;241m|\u001B[39m \u001B[38;5;28;01mNone\u001B[39;00m \u001B[38;5;241m=\u001B[39m \u001B[38;5;28;01mNone\u001B[39;00m\n\u001B[1;32m-> 1442\u001B[0m \u001B[38;5;28mself\u001B[39m\u001B[38;5;241m.\u001B[39m_engine \u001B[38;5;241m=\u001B[39m \u001B[38;5;28;43mself\u001B[39;49m\u001B[38;5;241;43m.\u001B[39;49m\u001B[43m_make_engine\u001B[49m\u001B[43m(\u001B[49m\u001B[43mf\u001B[49m\u001B[43m,\u001B[49m\u001B[43m \u001B[49m\u001B[38;5;28;43mself\u001B[39;49m\u001B[38;5;241;43m.\u001B[39;49m\u001B[43mengine\u001B[49m\u001B[43m)\u001B[49m\n",
      "File \u001B[1;32m~\\AppData\\Roaming\\Python\\Python310\\site-packages\\pandas\\io\\parsers\\readers.py:1729\u001B[0m, in \u001B[0;36mTextFileReader._make_engine\u001B[1;34m(self, f, engine)\u001B[0m\n\u001B[0;32m   1727\u001B[0m     is_text \u001B[38;5;241m=\u001B[39m \u001B[38;5;28;01mFalse\u001B[39;00m\n\u001B[0;32m   1728\u001B[0m     mode \u001B[38;5;241m=\u001B[39m \u001B[38;5;124m\"\u001B[39m\u001B[38;5;124mrb\u001B[39m\u001B[38;5;124m\"\u001B[39m\n\u001B[1;32m-> 1729\u001B[0m \u001B[38;5;28mself\u001B[39m\u001B[38;5;241m.\u001B[39mhandles \u001B[38;5;241m=\u001B[39m \u001B[43mget_handle\u001B[49m\u001B[43m(\u001B[49m\n\u001B[0;32m   1730\u001B[0m \u001B[43m    \u001B[49m\u001B[43mf\u001B[49m\u001B[43m,\u001B[49m\n\u001B[0;32m   1731\u001B[0m \u001B[43m    \u001B[49m\u001B[43mmode\u001B[49m\u001B[43m,\u001B[49m\n\u001B[0;32m   1732\u001B[0m \u001B[43m    \u001B[49m\u001B[43mencoding\u001B[49m\u001B[38;5;241;43m=\u001B[39;49m\u001B[38;5;28;43mself\u001B[39;49m\u001B[38;5;241;43m.\u001B[39;49m\u001B[43moptions\u001B[49m\u001B[38;5;241;43m.\u001B[39;49m\u001B[43mget\u001B[49m\u001B[43m(\u001B[49m\u001B[38;5;124;43m\"\u001B[39;49m\u001B[38;5;124;43mencoding\u001B[39;49m\u001B[38;5;124;43m\"\u001B[39;49m\u001B[43m,\u001B[49m\u001B[43m \u001B[49m\u001B[38;5;28;43;01mNone\u001B[39;49;00m\u001B[43m)\u001B[49m\u001B[43m,\u001B[49m\n\u001B[0;32m   1733\u001B[0m \u001B[43m    \u001B[49m\u001B[43mcompression\u001B[49m\u001B[38;5;241;43m=\u001B[39;49m\u001B[38;5;28;43mself\u001B[39;49m\u001B[38;5;241;43m.\u001B[39;49m\u001B[43moptions\u001B[49m\u001B[38;5;241;43m.\u001B[39;49m\u001B[43mget\u001B[49m\u001B[43m(\u001B[49m\u001B[38;5;124;43m\"\u001B[39;49m\u001B[38;5;124;43mcompression\u001B[39;49m\u001B[38;5;124;43m\"\u001B[39;49m\u001B[43m,\u001B[49m\u001B[43m \u001B[49m\u001B[38;5;28;43;01mNone\u001B[39;49;00m\u001B[43m)\u001B[49m\u001B[43m,\u001B[49m\n\u001B[0;32m   1734\u001B[0m \u001B[43m    \u001B[49m\u001B[43mmemory_map\u001B[49m\u001B[38;5;241;43m=\u001B[39;49m\u001B[38;5;28;43mself\u001B[39;49m\u001B[38;5;241;43m.\u001B[39;49m\u001B[43moptions\u001B[49m\u001B[38;5;241;43m.\u001B[39;49m\u001B[43mget\u001B[49m\u001B[43m(\u001B[49m\u001B[38;5;124;43m\"\u001B[39;49m\u001B[38;5;124;43mmemory_map\u001B[39;49m\u001B[38;5;124;43m\"\u001B[39;49m\u001B[43m,\u001B[49m\u001B[43m \u001B[49m\u001B[38;5;28;43;01mFalse\u001B[39;49;00m\u001B[43m)\u001B[49m\u001B[43m,\u001B[49m\n\u001B[0;32m   1735\u001B[0m \u001B[43m    \u001B[49m\u001B[43mis_text\u001B[49m\u001B[38;5;241;43m=\u001B[39;49m\u001B[43mis_text\u001B[49m\u001B[43m,\u001B[49m\n\u001B[0;32m   1736\u001B[0m \u001B[43m    \u001B[49m\u001B[43merrors\u001B[49m\u001B[38;5;241;43m=\u001B[39;49m\u001B[38;5;28;43mself\u001B[39;49m\u001B[38;5;241;43m.\u001B[39;49m\u001B[43moptions\u001B[49m\u001B[38;5;241;43m.\u001B[39;49m\u001B[43mget\u001B[49m\u001B[43m(\u001B[49m\u001B[38;5;124;43m\"\u001B[39;49m\u001B[38;5;124;43mencoding_errors\u001B[39;49m\u001B[38;5;124;43m\"\u001B[39;49m\u001B[43m,\u001B[49m\u001B[43m \u001B[49m\u001B[38;5;124;43m\"\u001B[39;49m\u001B[38;5;124;43mstrict\u001B[39;49m\u001B[38;5;124;43m\"\u001B[39;49m\u001B[43m)\u001B[49m\u001B[43m,\u001B[49m\n\u001B[0;32m   1737\u001B[0m \u001B[43m    \u001B[49m\u001B[43mstorage_options\u001B[49m\u001B[38;5;241;43m=\u001B[39;49m\u001B[38;5;28;43mself\u001B[39;49m\u001B[38;5;241;43m.\u001B[39;49m\u001B[43moptions\u001B[49m\u001B[38;5;241;43m.\u001B[39;49m\u001B[43mget\u001B[49m\u001B[43m(\u001B[49m\u001B[38;5;124;43m\"\u001B[39;49m\u001B[38;5;124;43mstorage_options\u001B[39;49m\u001B[38;5;124;43m\"\u001B[39;49m\u001B[43m,\u001B[49m\u001B[43m \u001B[49m\u001B[38;5;28;43;01mNone\u001B[39;49;00m\u001B[43m)\u001B[49m\u001B[43m,\u001B[49m\n\u001B[0;32m   1738\u001B[0m \u001B[43m\u001B[49m\u001B[43m)\u001B[49m\n\u001B[0;32m   1739\u001B[0m \u001B[38;5;28;01massert\u001B[39;00m \u001B[38;5;28mself\u001B[39m\u001B[38;5;241m.\u001B[39mhandles \u001B[38;5;129;01mis\u001B[39;00m \u001B[38;5;129;01mnot\u001B[39;00m \u001B[38;5;28;01mNone\u001B[39;00m\n\u001B[0;32m   1740\u001B[0m f \u001B[38;5;241m=\u001B[39m \u001B[38;5;28mself\u001B[39m\u001B[38;5;241m.\u001B[39mhandles\u001B[38;5;241m.\u001B[39mhandle\n",
      "File \u001B[1;32m~\\AppData\\Roaming\\Python\\Python310\\site-packages\\pandas\\io\\common.py:857\u001B[0m, in \u001B[0;36mget_handle\u001B[1;34m(path_or_buf, mode, encoding, compression, memory_map, is_text, errors, storage_options)\u001B[0m\n\u001B[0;32m    852\u001B[0m \u001B[38;5;28;01melif\u001B[39;00m \u001B[38;5;28misinstance\u001B[39m(handle, \u001B[38;5;28mstr\u001B[39m):\n\u001B[0;32m    853\u001B[0m     \u001B[38;5;66;03m# Check whether the filename is to be opened in binary mode.\u001B[39;00m\n\u001B[0;32m    854\u001B[0m     \u001B[38;5;66;03m# Binary mode does not support 'encoding' and 'newline'.\u001B[39;00m\n\u001B[0;32m    855\u001B[0m     \u001B[38;5;28;01mif\u001B[39;00m ioargs\u001B[38;5;241m.\u001B[39mencoding \u001B[38;5;129;01mand\u001B[39;00m \u001B[38;5;124m\"\u001B[39m\u001B[38;5;124mb\u001B[39m\u001B[38;5;124m\"\u001B[39m \u001B[38;5;129;01mnot\u001B[39;00m \u001B[38;5;129;01min\u001B[39;00m ioargs\u001B[38;5;241m.\u001B[39mmode:\n\u001B[0;32m    856\u001B[0m         \u001B[38;5;66;03m# Encoding\u001B[39;00m\n\u001B[1;32m--> 857\u001B[0m         handle \u001B[38;5;241m=\u001B[39m \u001B[38;5;28;43mopen\u001B[39;49m\u001B[43m(\u001B[49m\n\u001B[0;32m    858\u001B[0m \u001B[43m            \u001B[49m\u001B[43mhandle\u001B[49m\u001B[43m,\u001B[49m\n\u001B[0;32m    859\u001B[0m \u001B[43m            \u001B[49m\u001B[43mioargs\u001B[49m\u001B[38;5;241;43m.\u001B[39;49m\u001B[43mmode\u001B[49m\u001B[43m,\u001B[49m\n\u001B[0;32m    860\u001B[0m \u001B[43m            \u001B[49m\u001B[43mencoding\u001B[49m\u001B[38;5;241;43m=\u001B[39;49m\u001B[43mioargs\u001B[49m\u001B[38;5;241;43m.\u001B[39;49m\u001B[43mencoding\u001B[49m\u001B[43m,\u001B[49m\n\u001B[0;32m    861\u001B[0m \u001B[43m            \u001B[49m\u001B[43merrors\u001B[49m\u001B[38;5;241;43m=\u001B[39;49m\u001B[43merrors\u001B[49m\u001B[43m,\u001B[49m\n\u001B[0;32m    862\u001B[0m \u001B[43m            \u001B[49m\u001B[43mnewline\u001B[49m\u001B[38;5;241;43m=\u001B[39;49m\u001B[38;5;124;43m\"\u001B[39;49m\u001B[38;5;124;43m\"\u001B[39;49m\u001B[43m,\u001B[49m\n\u001B[0;32m    863\u001B[0m \u001B[43m        \u001B[49m\u001B[43m)\u001B[49m\n\u001B[0;32m    864\u001B[0m     \u001B[38;5;28;01melse\u001B[39;00m:\n\u001B[0;32m    865\u001B[0m         \u001B[38;5;66;03m# Binary mode\u001B[39;00m\n\u001B[0;32m    866\u001B[0m         handle \u001B[38;5;241m=\u001B[39m \u001B[38;5;28mopen\u001B[39m(handle, ioargs\u001B[38;5;241m.\u001B[39mmode)\n",
      "\u001B[1;31mFileNotFoundError\u001B[0m: [Errno 2] No such file or directory: 'Documents/Deploy2/pi-predicao-churn/data/Churn Modeling.csv'"
     ]
    }
   ],
   "source": [
    "df = pd.read_csv(\"Documents/Deploy2/pi-predicao-churn/data/Churn Modeling.csv\")"
   ]
  },
  {
   "cell_type": "code",
   "execution_count": null,
   "id": "98d932ce",
   "metadata": {
    "tags": []
   },
   "outputs": [],
   "source": [
    "df.shape"
   ]
  },
  {
   "cell_type": "code",
   "execution_count": null,
   "id": "fb03eb87-e832-4e84-bb5d-d11acfe0c2e8",
   "metadata": {},
   "outputs": [],
   "source": [
    "get_missing_values(df)"
   ]
  },
  {
   "cell_type": "code",
   "execution_count": 12,
   "id": "92d27ab7-fe52-4e05-9740-5f4b1d75b521",
   "metadata": {},
   "outputs": [
    {
     "ename": "NameError",
     "evalue": "name 'df' is not defined",
     "output_type": "error",
     "traceback": [
      "\u001B[1;31m---------------------------------------------------------------------------\u001B[0m",
      "\u001B[1;31mNameError\u001B[0m                                 Traceback (most recent call last)",
      "Cell \u001B[1;32mIn [12], line 1\u001B[0m\n\u001B[1;32m----> 1\u001B[0m \u001B[43mdf\u001B[49m\n",
      "\u001B[1;31mNameError\u001B[0m: name 'df' is not defined"
     ]
    }
   ],
   "source": [
    "df"
   ]
  },
  {
   "cell_type": "code",
   "execution_count": null,
   "id": "fab9f826-22c0-4d03-80c0-5bf343ecbc2a",
   "metadata": {},
   "outputs": [],
   "source": [
    "df = df.drop(['RowNumber','CustomerId','Surname'], axis=1)"
   ]
  },
  {
   "cell_type": "code",
   "execution_count": null,
   "id": "8efdde19-4bd0-4345-bdb9-59ae0a9d93ca",
   "metadata": {},
   "outputs": [],
   "source": [
    "df"
   ]
  },
  {
   "cell_type": "code",
   "execution_count": null,
   "id": "0ed605ab-73c8-477d-b800-0311901e4d8f",
   "metadata": {},
   "outputs": [],
   "source": [
    "var_cat = ['Geography','Gender']"
   ]
  },
  {
   "cell_type": "code",
   "execution_count": null,
   "id": "d758701c-4312-4692-9acd-fb7353cb710d",
   "metadata": {},
   "outputs": [],
   "source": [
    "var_num = ['CreditScore','Age', 'Tenure', 'Balance','NumOfProducts','EstimatedSalary','HasCrCard','IsActiveMember']"
   ]
  },
  {
   "cell_type": "code",
   "execution_count": null,
   "id": "cb4021fe-abb6-4121-9a7d-c131c27d3175",
   "metadata": {},
   "outputs": [],
   "source": [
    "var_target = ['Exited']"
   ]
  },
  {
   "cell_type": "code",
   "execution_count": null,
   "id": "56aa07aa-cb3f-4ad3-823a-59e54e94304a",
   "metadata": {},
   "outputs": [],
   "source": [
    "features = list(var_cat + var_num)"
   ]
  },
  {
   "cell_type": "code",
   "execution_count": null,
   "id": "4e380939-a5cd-4aef-a505-7a2db88671b6",
   "metadata": {},
   "outputs": [],
   "source": [
    "df.info()"
   ]
  },
  {
   "cell_type": "code",
   "execution_count": null,
   "id": "244f2e74-843b-4f53-a437-d625a4a59ecb",
   "metadata": {},
   "outputs": [],
   "source": [
    "features"
   ]
  },
  {
   "cell_type": "code",
   "execution_count": null,
   "id": "940b1b3c-9fda-4971-9be3-dc12dcbd39de",
   "metadata": {},
   "outputs": [],
   "source": [
    "X = df[features]\n",
    "y = df[var_target]"
   ]
  },
  {
   "cell_type": "markdown",
   "id": "9e8580e2-0da3-482e-b490-106c7f0da4ec",
   "metadata": {
    "tags": []
   },
   "source": [
    "### Spliting Data"
   ]
  },
  {
   "cell_type": "code",
   "execution_count": null,
   "id": "f6079016-0356-47bc-8d5e-cff8699709e2",
   "metadata": {},
   "outputs": [],
   "source": [
    "X_train, X_test, y_train, y_test = train_test_split(X, y, test_size = 0.25, random_state = 0)"
   ]
  },
  {
   "cell_type": "code",
   "execution_count": null,
   "id": "1502be1f-215c-4562-859d-2b0cf2e35b04",
   "metadata": {},
   "outputs": [],
   "source": [
    "len(X), len(X_train), len(X_test), len(y_train), len(y_test)"
   ]
  },
  {
   "cell_type": "code",
   "execution_count": null,
   "id": "21ba75b0-bcde-4bf0-b056-057e52b6e585",
   "metadata": {},
   "outputs": [],
   "source": [
    "X_train"
   ]
  },
  {
   "cell_type": "markdown",
   "id": "7886e7e5-abad-4467-baeb-42b5837e0249",
   "metadata": {
    "tags": []
   },
   "source": [
    "### Categorização"
   ]
  },
  {
   "cell_type": "markdown",
   "id": "bc1d70ab-9de9-4f4e-a7e4-128036b64242",
   "metadata": {},
   "source": [
    "#### Target Enconder\n",
    "    "
   ]
  },
  {
   "cell_type": "code",
   "execution_count": null,
   "id": "c2e109ef-057b-4bd3-8464-0c228f2d696a",
   "metadata": {},
   "outputs": [],
   "source": [
    "target_enconder = ce.TargetEncoder(\n",
    "    cols=var_cat,\n",
    "    verbose=10\n",
    ")\n",
    "target_enconder.fit(X,y)"
   ]
  },
  {
   "cell_type": "code",
   "execution_count": null,
   "id": "36582828-b3b2-4dfc-846e-c6ccfedc134e",
   "metadata": {},
   "outputs": [],
   "source": [
    "X_train = target_enconder.transform(X_train)\n",
    "X_test = target_enconder.transform(X_test)"
   ]
  },
  {
   "cell_type": "markdown",
   "id": "b29721f4-b4b4-4876-b318-9ee9baedf59d",
   "metadata": {},
   "source": [
    "#### OneHot Enconder"
   ]
  },
  {
   "cell_type": "code",
   "execution_count": null,
   "id": "bc6f3739-d72d-43d4-b8fd-063b4073e58b",
   "metadata": {},
   "outputs": [],
   "source": [
    "onehot_enconder = ce.OneHotEncoder(cols=var_cat)\n",
    "onehot_enconder.fit(X_train)"
   ]
  },
  {
   "cell_type": "code",
   "execution_count": null,
   "id": "0e8409a1-c5f4-472e-b910-c1c766516fb8",
   "metadata": {},
   "outputs": [],
   "source": [
    "X_train_OHE = onehot_enconder.transform(X_train)\n",
    "X_test_OHE = onehot_enconder.transform(X_test)"
   ]
  },
  {
   "cell_type": "markdown",
   "id": "4418d7ba-6089-41ab-be20-cf85f5945040",
   "metadata": {
    "tags": []
   },
   "source": [
    "### Padronização"
   ]
  },
  {
   "cell_type": "code",
   "execution_count": null,
   "id": "e0d8d951-99c9-4a67-a002-aa38be9b89a1",
   "metadata": {},
   "outputs": [],
   "source": [
    "mm_scaler = MinMaxScaler()\n",
    "X_train_mm = mm_scaler.fit_transform(X_train[var_num])\n",
    "X_test_mm = mm_scaler.transform(X_test[var_num])"
   ]
  },
  {
   "cell_type": "code",
   "execution_count": null,
   "id": "dcd75629-ca1d-4043-a002-d3ee41fb107b",
   "metadata": {},
   "outputs": [],
   "source": [
    "X_train_mm"
   ]
  },
  {
   "cell_type": "code",
   "execution_count": null,
   "id": "15a163bf-9a09-4057-abeb-092d7d095bb0",
   "metadata": {},
   "outputs": [],
   "source": [
    "ss = StandardScaler()\n",
    "X_train_ss = ss.fit_transform(X_train[var_num])\n",
    "X_test_ss = ss.transform(X_test[var_num])"
   ]
  },
  {
   "cell_type": "code",
   "execution_count": null,
   "id": "815d4a31-45bd-4d36-9374-77817303793b",
   "metadata": {},
   "outputs": [],
   "source": [
    "X_train_ss"
   ]
  },
  {
   "cell_type": "markdown",
   "id": "b9e4907e-3540-40bf-8996-bc868c9ea47c",
   "metadata": {
    "tags": []
   },
   "source": [
    "### Final Dataset"
   ]
  },
  {
   "cell_type": "code",
   "execution_count": null,
   "id": "7d1a70d2-79ab-4b03-b895-1057d4ed6f17",
   "metadata": {},
   "outputs": [],
   "source": [
    "X_train_scaled = pd.DataFrame(X_train_ss, index = X_train[var_num].index, columns = X_train[var_num].columns)\n",
    "X_test_scaled = pd.DataFrame(X_test_ss, index = X_test[var_num].index, columns = X_test[var_num].columns)"
   ]
  },
  {
   "cell_type": "code",
   "execution_count": null,
   "id": "63fa9b94-1af8-4101-bcdf-81f03ba502fb",
   "metadata": {},
   "outputs": [],
   "source": [
    "\n",
    "X_test_scaled "
   ]
  },
  {
   "cell_type": "code",
   "execution_count": null,
   "id": "8319849a-6632-426a-be0e-e7611cf8235c",
   "metadata": {},
   "outputs": [],
   "source": [
    "X_train[var_cat]"
   ]
  },
  {
   "cell_type": "code",
   "execution_count": null,
   "id": "befd7438-7962-4c9d-8ba2-662f891720ca",
   "metadata": {},
   "outputs": [],
   "source": [
    "Xs_train = pd.concat([X_train_scaled, X_train[var_cat]], axis=1)\n",
    "Xs_test = pd.concat([X_test_scaled, X_test[var_cat]], axis=1)"
   ]
  },
  {
   "cell_type": "code",
   "execution_count": null,
   "id": "02048337-f09b-4f20-9c32-82182e3a1585",
   "metadata": {},
   "outputs": [],
   "source": [
    "Xs_test"
   ]
  },
  {
   "cell_type": "code",
   "execution_count": null,
   "id": "04e8def1-6321-4e78-83c9-c649cef81329",
   "metadata": {},
   "outputs": [],
   "source": [
    "y_train = y_train.Exited\n",
    "y_test = y_test.Exited"
   ]
  },
  {
   "cell_type": "code",
   "execution_count": null,
   "id": "8cae55da-bb10-4154-a81b-0af441a79d25",
   "metadata": {},
   "outputs": [],
   "source": [
    "y_train"
   ]
  },
  {
   "cell_type": "markdown",
   "id": "31d857a8-6ef1-40ea-a8df-372a594d6c6f",
   "metadata": {
    "tags": []
   },
   "source": [
    "### Regressão Logística"
   ]
  },
  {
   "cell_type": "code",
   "execution_count": null,
   "id": "623901aa-50ce-458a-bf7c-22ca4fe86d23",
   "metadata": {},
   "outputs": [],
   "source": [
    "stime = timeit.default_timer()\n",
    "clr = LogisticRegression(random_state=45678, solver='lbfgs', n_jobs=-1, penalty = \"none\")\n",
    "clr.fit(Xs_train, y_train)\n",
    "\n",
    "etime = timeit.default_timer()\n",
    "lr_baseline_time = etime - stime\n",
    "print(f'Speed: {lr_baseline_time:.2f}s')\n",
    "print(f'AUC train: {metrics.roc_auc_score(y_train, clr.predict_proba(Xs_train)[:, 1]):.2f}')\n",
    "print(f'AUC test: {metrics.roc_auc_score(y_test, clr.predict_proba(Xs_test)[:, 1]):.2f}')\n",
    "print(f'ACC train: {metrics.accuracy_score(y_train, clr.predict(Xs_train)):.2f}')\n",
    "print(f'ACC test: {metrics.accuracy_score(y_test, clr.predict(Xs_test)):.2f}')\n",
    "print(f'f1 score train: {metrics.f1_score(y_train, clr.predict(Xs_train)):.2f}')\n",
    "print(f'f1 score test: {metrics.f1_score(y_test, clr.predict(Xs_test)):.2f}')"
   ]
  },
  {
   "cell_type": "code",
   "execution_count": null,
   "id": "8286d056-927d-44ae-aa75-69288c83dbe6",
   "metadata": {},
   "outputs": [],
   "source": [
    "y_pred = clr.predict(Xs_train)"
   ]
  },
  {
   "cell_type": "code",
   "execution_count": null,
   "id": "4e9824f7-0281-472e-91a1-d239077e0603",
   "metadata": {},
   "outputs": [],
   "source": [
    "conma = metrics.confusion_matrix(y_test, clr.predict(Xs_test))\n",
    "conma"
   ]
  },
  {
   "cell_type": "code",
   "execution_count": null,
   "id": "fd463525-8e7b-426f-9d4c-6b2e5a73b8e4",
   "metadata": {
    "tags": []
   },
   "outputs": [],
   "source": [
    "metrics.ConfusionMatrixDisplay(conma).plot()"
   ]
  },
  {
   "cell_type": "markdown",
   "id": "24cab7d7-9174-412d-ba42-bbaf2735ee28",
   "metadata": {},
   "source": [
    "#### Cross Validation"
   ]
  },
  {
   "cell_type": "code",
   "execution_count": null,
   "id": "281f3602-eabb-452a-a723-9134697aa444",
   "metadata": {},
   "outputs": [],
   "source": [
    "scores = cross_val_score(clr, Xs_train, y_train, cv =10)\n",
    "AUC = cross_val_score(clr, Xs_train, y_train, cv =10, scoring = 'roc_auc')\n",
    "f1 = cross_val_score(clr, Xs_train, y_train, cv =10, scoring = 'f1')"
   ]
  },
  {
   "cell_type": "code",
   "execution_count": null,
   "id": "784be176-33df-4fae-b3c5-8bdab293c8fa",
   "metadata": {},
   "outputs": [],
   "source": [
    "scorings = ['f1', 'accuracy', 'roc_auc']"
   ]
  },
  {
   "cell_type": "code",
   "execution_count": null,
   "id": "db1feda7-d4d6-4e38-aaf0-507d54fe7d91",
   "metadata": {},
   "outputs": [],
   "source": [
    "f1 = cross_validate(clr, Xs_train, y_train, cv =10, scoring = scorings)"
   ]
  },
  {
   "cell_type": "code",
   "execution_count": null,
   "id": "93c689fc-3cd7-4a23-a064-991257bf5e12",
   "metadata": {},
   "outputs": [],
   "source": [
    "sorted(f1.keys())"
   ]
  },
  {
   "cell_type": "code",
   "execution_count": null,
   "id": "e6f26cb9-c08d-48d2-b1a1-9d3cee730ce6",
   "metadata": {},
   "outputs": [],
   "source": [
    "y_pred = clr.predict(Xs_test)"
   ]
  },
  {
   "cell_type": "code",
   "execution_count": null,
   "id": "efd012bc-1ee0-41a1-99fa-dfbd6c0f75a7",
   "metadata": {},
   "outputs": [],
   "source": [
    "AUC.mean()"
   ]
  },
  {
   "cell_type": "code",
   "execution_count": null,
   "id": "bf210c0f-aea4-487e-a49b-b8af9a44b048",
   "metadata": {},
   "outputs": [],
   "source": [
    "from sklearn.metrics import classification_report\n",
    "print(classification_report(y_test, y_pred))"
   ]
  },
  {
   "cell_type": "markdown",
   "id": "ca78324d-cdd6-4d09-bcaf-9d6676a472ec",
   "metadata": {
    "tags": []
   },
   "source": [
    "### Random Forest"
   ]
  },
  {
   "cell_type": "code",
   "execution_count": null,
   "id": "c0d6e262-ff8f-44a7-be72-9fd5dcb11207",
   "metadata": {},
   "outputs": [],
   "source": [
    "stime = timeit.default_timer()\n",
    "\n",
    "rf_clf = RandomForestClassifier(\n",
    "    n_estimators=294,\n",
    "    criterion='entropy',\n",
    "    max_depth=10,\n",
    "    min_samples_split = 7,\n",
    "    min_samples_leaf = 4,\n",
    "    max_samples = 0.673861043631317,\n",
    "    max_features='sqrt',\n",
    "    random_state= 0\n",
    ")\n",
    "\n",
    "rf_clf.fit(Xs_train, y_train)\n",
    "\n",
    "etime = timeit.default_timer()\n",
    "\n",
    "rf_clf_baseline_time = etime - stime\n",
    "rf_clf_y_train_predict = rf_clf.predict_proba(Xs_train)[:, 1]\n",
    "\n",
    "print(f'Speed: {rf_clf_baseline_time:.2f}s')\n",
    "print(f'AUC train: {roc_auc_score(y_train, rf_clf_y_train_predict):.2f}')\n",
    "print(f'AUC test: {metrics.roc_auc_score(y_test, rf_clf.predict_proba(Xs_test)[:, 1]):.2f}')\n",
    "print(f'f1 score train: {metrics.f1_score(y_train, rf_clf.predict(Xs_train)):.2f}')\n",
    "print(f'f1 score test: {metrics.f1_score(y_test, rf_clf.predict(Xs_test)):.2f}')"
   ]
  },
  {
   "cell_type": "code",
   "execution_count": null,
   "id": "b4dfda09-36e2-4e41-86ba-39ef3768e868",
   "metadata": {
    "tags": []
   },
   "outputs": [],
   "source": [
    "conma = metrics.confusion_matrix(y_test, rf_clf.predict(Xs_test))\n",
    "conma"
   ]
  },
  {
   "cell_type": "code",
   "execution_count": null,
   "id": "1f746a18-4ff0-45aa-bb91-dd3ac3af9d48",
   "metadata": {
    "tags": []
   },
   "outputs": [],
   "source": [
    "metrics.ConfusionMatrixDisplay(conma).plot()"
   ]
  },
  {
   "cell_type": "markdown",
   "id": "18395913-2ed8-4d48-be92-066a40b04852",
   "metadata": {},
   "source": [
    "### Gradient Boosting"
   ]
  },
  {
   "cell_type": "code",
   "execution_count": null,
   "id": "b3bc8c10-8ba7-49f7-b3b0-3323ea01463a",
   "metadata": {},
   "outputs": [],
   "source": [
    "gbc = GradientBoostingClassifier(n_estimators=100, learning_rate=1.0,\n",
    "...     max_depth=2, random_state=0).fit(Xs_train, y_train)\n",
    ">>> gbc.score(Xs_test, y_test)\n",
    "gb_clf_y_train_predict = gbc.predict_proba(Xs_train)[:, 1]\n",
    "\n",
    "print(f'AUC train: {roc_auc_score(y_train, gb_clf_y_train_predict):.2f}')\n",
    "print(f'AUC test: {metrics.roc_auc_score(y_test, gbc.predict_proba(Xs_test)[:, 1]):.2f}')\n",
    "print(f'ACC train: {metrics.accuracy_score(y_train, gbc.predict(Xs_train)):.2f}')\n",
    "print(f'ACC test: {metrics.accuracy_score(y_test, gbc.predict(Xs_test)):.2f}')\n",
    "print(f'f1 score train: {metrics.f1_score(y_train, gbc.predict(Xs_train)):.2f}')\n",
    "print(f'f1 score test: {metrics.f1_score(y_test, gbc.predict(Xs_test)):.2f}')"
   ]
  },
  {
   "cell_type": "markdown",
   "id": "e9e9e47b-c643-4548-b754-023ebbe14b45",
   "metadata": {},
   "source": [
    "### XGBoosting"
   ]
  },
  {
   "cell_type": "code",
   "execution_count": 9,
   "id": "837e9dcf-18ac-46c0-86dc-421049818307",
   "metadata": {},
   "outputs": [
    {
     "ename": "NameError",
     "evalue": "name 'xgb' is not defined",
     "output_type": "error",
     "traceback": [
      "\u001B[1;31m---------------------------------------------------------------------------\u001B[0m",
      "\u001B[1;31mNameError\u001B[0m                                 Traceback (most recent call last)",
      "Cell \u001B[1;32mIn [9], line 1\u001B[0m\n\u001B[1;32m----> 1\u001B[0m classificador_xgb \u001B[38;5;241m=\u001B[39m \u001B[43mxgb\u001B[49m\u001B[38;5;241m.\u001B[39mXGBClassifier()\n",
      "\u001B[1;31mNameError\u001B[0m: name 'xgb' is not defined"
     ]
    }
   ],
   "source": [
    "classificador_xgb = xgb.XGBClassifier()"
   ]
  },
  {
   "cell_type": "code",
   "execution_count": null,
   "id": "3196a0fd-77e2-42aa-a314-c2251de05701",
   "metadata": {},
   "outputs": [],
   "source": [
    "type(classificador_xgb)"
   ]
  },
  {
   "cell_type": "code",
   "execution_count": null,
   "id": "de1733f3-67f6-41ee-ac02-71e07fe22361",
   "metadata": {},
   "outputs": [],
   "source": [
    "from sklearn.model_selection import cross_val_score\n",
    "\n",
    "resultado_cv = cross_val_score(classificador_xgb, Xs_train, y_train)\n",
    "resultado_cv"
   ]
  },
  {
   "cell_type": "code",
   "execution_count": null,
   "id": "dab03bd4-3bcc-4d59-88ef-eb13fe2d7992",
   "metadata": {},
   "outputs": [],
   "source": [
    "resultado_cv.mean()"
   ]
  },
  {
   "cell_type": "code",
   "execution_count": null,
   "id": "1aba86a3-49df-4871-a756-580cb13e5917",
   "metadata": {},
   "outputs": [],
   "source": [
    "classificador_xgb_tunado = xgb.XGBClassifier(max_depth=2, eta= 0.35)\n",
    "100 * cross_val_score(classificador_xgb_tunado, Xs_train, y_train).mean()"
   ]
  },
  {
   "cell_type": "code",
   "execution_count": null,
   "id": "6bffc73c-b4c4-4646-86e7-7ced91a466f8",
   "metadata": {},
   "outputs": [],
   "source": [
    "classificador_xgb_dart = xgb.XGBClassifier(booster='dart')\n",
    "100 * cross_val_score(classificador_xgb_dart, Xs_train, y_train).mean()"
   ]
  },
  {
   "cell_type": "code",
   "execution_count": null,
   "id": "2670882f-998a-4368-973a-b82d0d593b9b",
   "metadata": {},
   "outputs": [],
   "source": [
    "classificador_xgb_gblinear = xgb.XGBClassifier(booster='gblinear')\n",
    "100 * cross_val_score(classificador_xgb_gblinear, Xs_train, y_train).mean()"
   ]
  },
  {
   "cell_type": "code",
   "execution_count": null,
   "id": "6a05cc2c-0da4-4fa6-8200-25b94002771e",
   "metadata": {},
   "outputs": [],
   "source": [
    "classificador_campeao = classificador_xgb_tunado"
   ]
  },
  {
   "cell_type": "code",
   "execution_count": 5,
   "id": "c29608fa-6ec8-4ae6-86b3-19eae08bc30f",
   "metadata": {},
   "outputs": [
    {
     "ename": "NameError",
     "evalue": "name 'classificador_campeao' is not defined",
     "output_type": "error",
     "traceback": [
      "\u001B[1;31m---------------------------------------------------------------------------\u001B[0m",
      "\u001B[1;31mNameError\u001B[0m                                 Traceback (most recent call last)",
      "Cell \u001B[1;32mIn [5], line 1\u001B[0m\n\u001B[1;32m----> 1\u001B[0m \u001B[43mclassificador_campeao\u001B[49m\u001B[38;5;241m.\u001B[39mfit(Xs_train, y_train)\n",
      "\u001B[1;31mNameError\u001B[0m: name 'classificador_campeao' is not defined"
     ]
    }
   ],
   "source": [
    "classificador_campeao.fit(Xs_train, y_train)"
   ]
  },
  {
   "cell_type": "code",
   "execution_count": 6,
   "id": "01fcf7d4-f545-44fd-a0c0-98c42ed35f6d",
   "metadata": {},
   "outputs": [
    {
     "ename": "NameError",
     "evalue": "name 'classificador_campeao' is not defined",
     "output_type": "error",
     "traceback": [
      "\u001B[1;31m---------------------------------------------------------------------------\u001B[0m",
      "\u001B[1;31mNameError\u001B[0m                                 Traceback (most recent call last)",
      "Cell \u001B[1;32mIn [6], line 1\u001B[0m\n\u001B[1;32m----> 1\u001B[0m xgb_y_train_predict \u001B[38;5;241m=\u001B[39m \u001B[43mclassificador_campeao\u001B[49m\u001B[38;5;241m.\u001B[39mpredict_proba(Xs_train)[:, \u001B[38;5;241m1\u001B[39m]\n\u001B[0;32m      4\u001B[0m \u001B[38;5;28mprint\u001B[39m(\u001B[38;5;124mf\u001B[39m\u001B[38;5;124m'\u001B[39m\u001B[38;5;124mAUC train: \u001B[39m\u001B[38;5;132;01m{\u001B[39;00mroc_auc_score(y_train, xgb_y_train_predict)\u001B[38;5;132;01m:\u001B[39;00m\u001B[38;5;124m.2f\u001B[39m\u001B[38;5;132;01m}\u001B[39;00m\u001B[38;5;124m'\u001B[39m)\n\u001B[0;32m      5\u001B[0m \u001B[38;5;28mprint\u001B[39m(\u001B[38;5;124mf\u001B[39m\u001B[38;5;124m'\u001B[39m\u001B[38;5;124mAUC test: \u001B[39m\u001B[38;5;132;01m{\u001B[39;00mmetrics\u001B[38;5;241m.\u001B[39mroc_auc_score(y_test, classificador_campeao\u001B[38;5;241m.\u001B[39mpredict_proba(Xs_test)[:, \u001B[38;5;241m1\u001B[39m])\u001B[38;5;132;01m:\u001B[39;00m\u001B[38;5;124m.2f\u001B[39m\u001B[38;5;132;01m}\u001B[39;00m\u001B[38;5;124m'\u001B[39m)\n",
      "\u001B[1;31mNameError\u001B[0m: name 'classificador_campeao' is not defined"
     ]
    }
   ],
   "source": [
    "xgb_y_train_predict = classificador_campeao.predict_proba(Xs_train)[:, 1]\n",
    "\n",
    "\n",
    "print(f'AUC train: {roc_auc_score(y_train, xgb_y_train_predict):.2f}')\n",
    "print(f'AUC test: {metrics.roc_auc_score(y_test, classificador_campeao.predict_proba(Xs_test)[:, 1]):.2f}')\n",
    "print(f'ACC train: {metrics.accuracy_score(y_train, classificador_campeao.predict(Xs_train)):.2f}')\n",
    "print(f'ACC test: {metrics.accuracy_score(y_test, classificador_campeao.predict(Xs_test)):.2f}')\n",
    "print(f'f1 score train: {metrics.f1_score(y_train, classificador_campeao.predict(Xs_train)):.2f}')\n",
    "print(f'f1 score test: {metrics.f1_score(y_test, classificador_campeao.predict(Xs_test)):.2f}')"
   ]
  },
  {
   "cell_type": "code",
   "execution_count": 7,
   "id": "3956ce25-a1ee-4e01-900c-79b9d2c7fec8",
   "metadata": {
    "tags": []
   },
   "outputs": [
    {
     "ename": "NameError",
     "evalue": "name 'metrics' is not defined",
     "output_type": "error",
     "traceback": [
      "\u001B[1;31m---------------------------------------------------------------------------\u001B[0m",
      "\u001B[1;31mNameError\u001B[0m                                 Traceback (most recent call last)",
      "Cell \u001B[1;32mIn [7], line 1\u001B[0m\n\u001B[1;32m----> 1\u001B[0m conma \u001B[38;5;241m=\u001B[39m \u001B[43mmetrics\u001B[49m\u001B[38;5;241m.\u001B[39mconfusion_matrix(y_test, classificador_campeao\u001B[38;5;241m.\u001B[39mpredict(Xs_test))\n\u001B[0;32m      2\u001B[0m conma\n",
      "\u001B[1;31mNameError\u001B[0m: name 'metrics' is not defined"
     ]
    }
   ],
   "source": [
    "conma = metrics.confusion_matrix(y_test, classificador_campeao.predict(Xs_test))\n",
    "conma"
   ]
  },
  {
   "cell_type": "code",
   "execution_count": 8,
   "id": "3a7d6ef1-c87f-4d2c-8961-28c8853f1bd9",
   "metadata": {
    "tags": []
   },
   "outputs": [
    {
     "ename": "NameError",
     "evalue": "name 'metrics' is not defined",
     "output_type": "error",
     "traceback": [
      "\u001B[1;31m---------------------------------------------------------------------------\u001B[0m",
      "\u001B[1;31mNameError\u001B[0m                                 Traceback (most recent call last)",
      "Cell \u001B[1;32mIn [8], line 1\u001B[0m\n\u001B[1;32m----> 1\u001B[0m \u001B[43mmetrics\u001B[49m\u001B[38;5;241m.\u001B[39mConfusionMatrixDisplay(conma)\u001B[38;5;241m.\u001B[39mplot()\n",
      "\u001B[1;31mNameError\u001B[0m: name 'metrics' is not defined"
     ]
    }
   ],
   "source": [
    "metrics.ConfusionMatrixDisplay(conma).plot()"
   ]
  },
  {
   "cell_type": "markdown",
   "id": "882e3d37-bd1c-410e-959b-622fd33f245a",
   "metadata": {},
   "source": [
    "### Naive Bayes"
   ]
  },
  {
   "cell_type": "code",
   "execution_count": 151,
   "id": "a89f0286-0342-4285-8108-d6a201e5110d",
   "metadata": {},
   "outputs": [],
   "source": [
    "from sklearn.naive_bayes import GaussianNB\n",
    "gnb = GaussianNB()"
   ]
  },
  {
   "cell_type": "code",
   "execution_count": 153,
   "id": "c4997f8b-c314-4bb4-99c3-72db85b5d693",
   "metadata": {},
   "outputs": [
    {
     "name": "stdout",
     "output_type": "stream",
     "text": [
      "AUC train: 0.80\n",
      "AUC test: 0.80\n",
      "ACC train: 0.83\n",
      "ACC test: 0.83\n",
      "f1 score train: 0.43\n",
      "f1 score test: 0.46\n"
     ]
    }
   ],
   "source": [
    "gnb.fit(Xs_train, y_train)\n",
    "gnb_y_train_predict = gnb.predict_proba(Xs_train)[:, 1]\n",
    "\n",
    "\n",
    "print(f'AUC train: {roc_auc_score(y_train, gnb_y_train_predict):.2f}')\n",
    "print(f'AUC test: {metrics.roc_auc_score(y_test, gnb.predict_proba(Xs_test)[:, 1]):.2f}')\n",
    "print(f'ACC train: {metrics.accuracy_score(y_train, gnb.predict(Xs_train)):.2f}')\n",
    "print(f'ACC test: {metrics.accuracy_score(y_test, gnb.predict(Xs_test)):.2f}')\n",
    "print(f'f1 score train: {metrics.f1_score(y_train, gnb.predict(Xs_train)):.2f}')\n",
    "print(f'f1 score test: {metrics.f1_score(y_test, gnb.predict(Xs_test)):.2f}')"
   ]
  },
  {
   "cell_type": "code",
   "execution_count": 155,
   "id": "c76a7b47-3249-4cc6-b4df-f33c9f1b17f8",
   "metadata": {
    "tags": []
   },
   "outputs": [
    {
     "data": {
      "text/plain": [
       "array([[1877,  114],\n",
       "       [ 323,  186]], dtype=int64)"
      ]
     },
     "execution_count": 155,
     "metadata": {},
     "output_type": "execute_result"
    }
   ],
   "source": [
    "conma = metrics.confusion_matrix(y_test, gnb.predict(Xs_test))\n",
    "conma"
   ]
  },
  {
   "cell_type": "code",
   "execution_count": 156,
   "id": "2f8add7d-2c03-45f1-a8a8-b0b3c3b1d877",
   "metadata": {
    "tags": []
   },
   "outputs": [
    {
     "data": {
      "text/plain": [
       "<sklearn.metrics._plot.confusion_matrix.ConfusionMatrixDisplay at 0x28dbe2ee2b0>"
      ]
     },
     "execution_count": 156,
     "metadata": {},
     "output_type": "execute_result"
    },
    {
     "data": {
      "image/png": "[encoded data removed]",
      "text/plain": [
       "<Figure size 432x288 with 2 Axes>"
      ]
     },
     "metadata": {
      "needs_background": "light"
     },
     "output_type": "display_data"
    }
   ],
   "source": [
    "metrics.ConfusionMatrixDisplay(conma).plot()"
   ]
  },
  {
   "cell_type": "markdown",
   "id": "d46688e9-e203-495c-8e03-25a00fec7c4e",
   "metadata": {
    "tags": []
   },
   "source": [
    "### Otimização de Hiperparâmetros"
   ]
  },
  {
   "cell_type": "code",
   "execution_count": 197,
   "id": "8e32fa95-7515-4d49-8430-1f12829fc8f5",
   "metadata": {},
   "outputs": [
    {
     "data": {
      "text/plain": [
       "GridSearchCV(estimator=XGBClassifier(base_score=None, booster=None,\n",
       "                                     callbacks=None, colsample_bylevel=None,\n",
       "                                     colsample_bynode=None,\n",
       "                                     colsample_bytree=None,\n",
       "                                     early_stopping_rounds=None,\n",
       "                                     enable_categorical=False, eval_metric=None,\n",
       "                                     gamma=None, gpu_id=None, grow_policy=None,\n",
       "                                     importance_type=None,\n",
       "                                     interaction_constraints=None,\n",
       "                                     learning_rate=None, max_bin=None,\n",
       "                                     max_cat_to_onehot=None,\n",
       "                                     max_delta_step=None, max_depth=None,\n",
       "                                     max_leaves=None, min_child_weight=None,\n",
       "                                     missing=nan, monotone_constraints=None,\n",
       "                                     n_estimators=100, n_jobs=None,\n",
       "                                     num_parallel_tree=None, predictor=None,\n",
       "                                     random_state=None, reg_alpha=None,\n",
       "                                     reg_lambda=None, ...),\n",
       "             param_grid={'booster': ('gblinear', 'dart', 'gbtree')})"
      ]
     },
     "execution_count": 197,
     "metadata": {},
     "output_type": "execute_result"
    }
   ],
   "source": [
    "from sklearn.model_selection import GridSearchCV\n",
    "# mudar de acordo com o modelo encontrado\n",
    "pipeline = GridSearchCV(classificador_xgb, hiperparameters)\n",
    "hiperparameters = {'booster':('gblinear', 'dart', 'gbtree')}\n",
    "pipeline.fit(Xs_train, y_train)\n",
    "pipeline.best_params_\n",
    "pipeline"
   ]
  },
  {
   "cell_type": "markdown",
   "id": "b4122e66-3c83-4e84-9d36-925b3caa328b",
   "metadata": {},
   "source": [
    "### Novo Cliente"
   ]
  },
  {
   "cell_type": "code",
   "execution_count": null,
   "id": "b7f6ba4c-b3ee-46d9-b28b-9f6d76efa4e2",
   "metadata": {},
   "outputs": [],
   "source": [
    "#NOVO CLIENTE\n",
    "#QUAIS SERIAM OS DEFAULT VALUES CASO O CLIENTE NÃO FORNEÇA ALGUM DADO? SERIA A MÉDIA?\n",
    "\n",
    "CreditScore =  \n",
    "Age = \n",
    "Tenure = \n",
    "Balance = \n",
    "NumOfProducts = \n",
    "HasCrCard = \n",
    "IsActiveMember =\n",
    "EstimatedSalary = \n",
    "Geography = \n",
    "Gender = \n",
    "\n",
    "Parametro = [[CreditScore, Age, Tenure, Balance, NumOfProducts, HasCrCard, IsActiveMember, EstimatedSalary, Geography, Gender]]\n",
    "\n",
    "Fazendo_Previsao = funcao_logistica.predict(Parametro)\n",
    "Probabilidade = funcao_logistica.predict_proba(Parametro)\n",
    "\n",
    "if Fazendo_Previsao == 0:\n",
    "    print('Retenção')\n",
    "    print(Probabilidade)\n",
    "    \n",
    "else:\n",
    "    print('Churn')\n",
    "    print(Probabilidade)"
   ]
  }
 ],
 "metadata": {
  "kernelspec": {
   "display_name": "Python 3 (ipykernel)",
   "language": "python",
   "name": "python3"
  },
  "language_info": {
   "codemirror_mode": {
    "name": "ipython",
    "version": 3
   },
   "file_extension": ".py",
   "mimetype": "text/x-python",
   "name": "python",
   "nbconvert_exporter": "python",
   "pygments_lexer": "ipython3",
   "version": "3.10.7"
  }
 },
 "nbformat": 4,
 "nbformat_minor": 5
}
