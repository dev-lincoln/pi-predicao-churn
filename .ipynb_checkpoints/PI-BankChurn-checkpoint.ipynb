{
 "cells": [
  {
   "cell_type": "markdown",
   "id": "ec3c2ca7-c889-4cb6-b7d0-ae0bebdbbffc",
   "metadata": {},
   "source": [
    "### IMPORTS"
   ]
  },
  {
   "cell_type": "code",
   "execution_count": 1,
   "id": "77d50277",
   "metadata": {},
   "outputs": [],
   "source": [
    "!pip install -q scikit-optimize"
   ]
  },
  {
   "cell_type": "code",
   "execution_count": 2,
   "id": "d21d3908-bf81-4f4a-896e-1690d1bcbf18",
   "metadata": {
    "tags": []
   },
   "outputs": [
    {
     "name": "stdout",
     "output_type": "stream",
     "text": [
      "Requirement already satisfied: category_encoders in c:\\programdata\\anaconda3\\lib\\site-packages (2.5.0)\n",
      "Requirement already satisfied: numpy>=1.14.0 in c:\\programdata\\anaconda3\\lib\\site-packages (from category_encoders) (1.21.5)\n",
      "Requirement already satisfied: pandas>=1.0.5 in c:\\programdata\\anaconda3\\lib\\site-packages (from category_encoders) (1.4.2)\n",
      "Requirement already satisfied: scipy>=1.0.0 in c:\\programdata\\anaconda3\\lib\\site-packages (from category_encoders) (1.7.3)\n",
      "Requirement already satisfied: statsmodels>=0.9.0 in c:\\programdata\\anaconda3\\lib\\site-packages (from category_encoders) (0.13.2)\n",
      "Requirement already satisfied: patsy>=0.5.1 in c:\\programdata\\anaconda3\\lib\\site-packages (from category_encoders) (0.5.2)\n",
      "Requirement already satisfied: scikit-learn>=0.20.0 in c:\\programdata\\anaconda3\\lib\\site-packages (from category_encoders) (1.0.2)\n",
      "Requirement already satisfied: pytz>=2020.1 in c:\\programdata\\anaconda3\\lib\\site-packages (from pandas>=1.0.5->category_encoders) (2021.3)\n",
      "Requirement already satisfied: python-dateutil>=2.8.1 in c:\\programdata\\anaconda3\\lib\\site-packages (from pandas>=1.0.5->category_encoders) (2.8.2)\n",
      "Requirement already satisfied: six in c:\\programdata\\anaconda3\\lib\\site-packages (from patsy>=0.5.1->category_encoders) (1.16.0)\n",
      "Requirement already satisfied: joblib>=0.11 in c:\\programdata\\anaconda3\\lib\\site-packages (from scikit-learn>=0.20.0->category_encoders) (1.1.0)\n",
      "Requirement already satisfied: threadpoolctl>=2.0.0 in c:\\programdata\\anaconda3\\lib\\site-packages (from scikit-learn>=0.20.0->category_encoders) (2.2.0)\n",
      "Requirement already satisfied: packaging>=21.3 in c:\\programdata\\anaconda3\\lib\\site-packages (from statsmodels>=0.9.0->category_encoders) (21.3)\n",
      "Requirement already satisfied: pyparsing!=3.0.5,>=2.0.2 in c:\\programdata\\anaconda3\\lib\\site-packages (from packaging>=21.3->statsmodels>=0.9.0->category_encoders) (3.0.4)\n"
     ]
    }
   ],
   "source": [
    "!pip install category_encoders"
   ]
  },
  {
   "cell_type": "code",
   "execution_count": 3,
   "id": "d42e9e46-be3c-4a59-82ed-5faf1ad3d7b6",
   "metadata": {},
   "outputs": [
    {
     "name": "stdout",
     "output_type": "stream",
     "text": [
      "Requirement already satisfied: xgboost in c:\\programdata\\anaconda3\\lib\\site-packages (1.6.2)\n",
      "Requirement already satisfied: scipy in c:\\programdata\\anaconda3\\lib\\site-packages (from xgboost) (1.7.3)\n",
      "Requirement already satisfied: numpy in c:\\programdata\\anaconda3\\lib\\site-packages (from xgboost) (1.21.5)\n"
     ]
    }
   ],
   "source": [
    "!pip install xgboost"
   ]
  },
  {
   "cell_type": "code",
   "execution_count": 4,
   "id": "baaf6d8b",
   "metadata": {
    "tags": []
   },
   "outputs": [],
   "source": [
    "import os\n",
    "import math\n",
    "import timeit\n",
    "from collections import Counter\n",
    "import gc\n",
    "import pickle\n",
    "\n",
    "import pandas as pd\n",
    "import numpy as np\n",
    "from scipy import stats\n",
    "import seaborn as sns\n",
    "import matplotlib.pyplot as plt\n",
    "\n",
    "from sklearn.impute import SimpleImputer\n",
    "from sklearn.metrics import roc_auc_score, confusion_matrix, f1_score\n",
    "from sklearn.model_selection import cross_val_score, cross_validate\n",
    "from sklearn.feature_selection import mutual_info_classif as MIC\n",
    "from sklearn.model_selection import train_test_split\n",
    "from sklearn.model_selection import GridSearchCV\n",
    "\n",
    "import category_encoders as ce\n",
    "\n",
    "from sklearn import metrics, tree\n",
    "from sklearn.linear_model import LogisticRegression\n",
    "from sklearn.ensemble import RandomForestClassifier\n",
    "from sklearn.ensemble import GradientBoostingClassifier\n",
    "from sklearn.preprocessing import OneHotEncoder\n",
    "from sklearn.preprocessing import MinMaxScaler, StandardScaler\n",
    "from IPython.display import display, display_html\n",
    "import xgboost as xgb"
   ]
  },
  {
   "cell_type": "code",
   "execution_count": null,
   "id": "9714849c-69b7-4b58-85e7-3c85c469f887",
   "metadata": {},
   "outputs": [],
   "source": []
  },
  {
   "cell_type": "markdown",
   "id": "6c2724c5-8c86-4f14-a8f9-2bb6e505ba80",
   "metadata": {
    "tags": []
   },
   "source": [
    "### UDFs"
   ]
  },
  {
   "cell_type": "code",
   "execution_count": 5,
   "id": "a1a842e4",
   "metadata": {},
   "outputs": [],
   "source": [
    "def my_print(s):\n",
    "    \"\"\"\n",
    "    Custom print with timestamp.\n",
    "    \"\"\"\n",
    "    print(\"[{}] {}\".format(datetime.now().strftime('%d/%m/%Y %H:%M:%S'), s))"
   ]
  },
  {
   "cell_type": "code",
   "execution_count": 6,
   "id": "92d3827b-6114-47cb-b45f-3af28fd9107e",
   "metadata": {},
   "outputs": [],
   "source": [
    "def get_missing_values(pdf):\n",
    "        \"\"\"\n",
    "        Retorna um Pandas Series com as colunas que tem ao\n",
    "        menos um missing value.\n",
    "        \"\"\"\n",
    "        \n",
    "        missing = pdf.isnull().sum()\n",
    "        return missing[missing > 0]"
   ]
  },
  {
   "cell_type": "markdown",
   "id": "05b3afea",
   "metadata": {
    "execution": {
     "iopub.execute_input": "2022-08-08T15:41:01.656152Z",
     "iopub.status.busy": "2022-08-08T15:41:01.655914Z",
     "iopub.status.idle": "2022-08-08T15:41:09.940244Z",
     "shell.execute_reply": "2022-08-08T15:41:09.939462Z",
     "shell.execute_reply.started": "2022-08-08T15:41:01.656120Z"
    },
    "tags": []
   },
   "source": [
    "### LOAD DATA"
   ]
  },
  {
   "cell_type": "code",
   "execution_count": 7,
   "id": "77eabd95-e3a9-41ae-bc9e-638895737259",
   "metadata": {},
   "outputs": [],
   "source": [
    "df = pd.read_csv(\"Churn Modeling.csv\")"
   ]
  },
  {
   "cell_type": "code",
   "execution_count": 8,
   "id": "98d932ce",
   "metadata": {
    "tags": []
   },
   "outputs": [
    {
     "data": {
      "text/plain": [
       "(10000, 14)"
      ]
     },
     "execution_count": 8,
     "metadata": {},
     "output_type": "execute_result"
    }
   ],
   "source": [
    "df.shape"
   ]
  },
  {
   "cell_type": "code",
   "execution_count": 9,
   "id": "fb03eb87-e832-4e84-bb5d-d11acfe0c2e8",
   "metadata": {},
   "outputs": [
    {
     "data": {
      "text/plain": [
       "Series([], dtype: int64)"
      ]
     },
     "execution_count": 9,
     "metadata": {},
     "output_type": "execute_result"
    }
   ],
   "source": [
    "get_missing_values(df)"
   ]
  },
  {
   "cell_type": "code",
   "execution_count": 10,
   "id": "92d27ab7-fe52-4e05-9740-5f4b1d75b521",
   "metadata": {},
   "outputs": [
    {
     "data": {
      "text/html": [
       "<div>\n",
       "<style scoped>\n",
       "    .dataframe tbody tr th:only-of-type {\n",
       "        vertical-align: middle;\n",
       "    }\n",
       "\n",
       "    .dataframe tbody tr th {\n",
       "        vertical-align: top;\n",
       "    }\n",
       "\n",
       "    .dataframe thead th {\n",
       "        text-align: right;\n",
       "    }\n",
       "</style>\n",
       "<table border=\"1\" class=\"dataframe\">\n",
       "  <thead>\n",
       "    <tr style=\"text-align: right;\">\n",
       "      <th></th>\n",
       "      <th>RowNumber</th>\n",
       "      <th>CustomerId</th>\n",
       "      <th>Surname</th>\n",
       "      <th>CreditScore</th>\n",
       "      <th>Geography</th>\n",
       "      <th>Gender</th>\n",
       "      <th>Age</th>\n",
       "      <th>Tenure</th>\n",
       "      <th>Balance</th>\n",
       "      <th>NumOfProducts</th>\n",
       "      <th>HasCrCard</th>\n",
       "      <th>IsActiveMember</th>\n",
       "      <th>EstimatedSalary</th>\n",
       "      <th>Exited</th>\n",
       "    </tr>\n",
       "  </thead>\n",
       "  <tbody>\n",
       "    <tr>\n",
       "      <th>0</th>\n",
       "      <td>1</td>\n",
       "      <td>15634602</td>\n",
       "      <td>Hargrave</td>\n",
       "      <td>619</td>\n",
       "      <td>France</td>\n",
       "      <td>Female</td>\n",
       "      <td>42</td>\n",
       "      <td>2</td>\n",
       "      <td>0.00</td>\n",
       "      <td>1</td>\n",
       "      <td>1</td>\n",
       "      <td>1</td>\n",
       "      <td>101348.88</td>\n",
       "      <td>1</td>\n",
       "    </tr>\n",
       "    <tr>\n",
       "      <th>1</th>\n",
       "      <td>2</td>\n",
       "      <td>15647311</td>\n",
       "      <td>Hill</td>\n",
       "      <td>608</td>\n",
       "      <td>Spain</td>\n",
       "      <td>Female</td>\n",
       "      <td>41</td>\n",
       "      <td>1</td>\n",
       "      <td>83807.86</td>\n",
       "      <td>1</td>\n",
       "      <td>0</td>\n",
       "      <td>1</td>\n",
       "      <td>112542.58</td>\n",
       "      <td>0</td>\n",
       "    </tr>\n",
       "    <tr>\n",
       "      <th>2</th>\n",
       "      <td>3</td>\n",
       "      <td>15619304</td>\n",
       "      <td>Onio</td>\n",
       "      <td>502</td>\n",
       "      <td>France</td>\n",
       "      <td>Female</td>\n",
       "      <td>42</td>\n",
       "      <td>8</td>\n",
       "      <td>159660.80</td>\n",
       "      <td>3</td>\n",
       "      <td>1</td>\n",
       "      <td>0</td>\n",
       "      <td>113931.57</td>\n",
       "      <td>1</td>\n",
       "    </tr>\n",
       "    <tr>\n",
       "      <th>3</th>\n",
       "      <td>4</td>\n",
       "      <td>15701354</td>\n",
       "      <td>Boni</td>\n",
       "      <td>699</td>\n",
       "      <td>France</td>\n",
       "      <td>Female</td>\n",
       "      <td>39</td>\n",
       "      <td>1</td>\n",
       "      <td>0.00</td>\n",
       "      <td>2</td>\n",
       "      <td>0</td>\n",
       "      <td>0</td>\n",
       "      <td>93826.63</td>\n",
       "      <td>0</td>\n",
       "    </tr>\n",
       "    <tr>\n",
       "      <th>4</th>\n",
       "      <td>5</td>\n",
       "      <td>15737888</td>\n",
       "      <td>Mitchell</td>\n",
       "      <td>850</td>\n",
       "      <td>Spain</td>\n",
       "      <td>Female</td>\n",
       "      <td>43</td>\n",
       "      <td>2</td>\n",
       "      <td>125510.82</td>\n",
       "      <td>1</td>\n",
       "      <td>1</td>\n",
       "      <td>1</td>\n",
       "      <td>79084.10</td>\n",
       "      <td>0</td>\n",
       "    </tr>\n",
       "    <tr>\n",
       "      <th>...</th>\n",
       "      <td>...</td>\n",
       "      <td>...</td>\n",
       "      <td>...</td>\n",
       "      <td>...</td>\n",
       "      <td>...</td>\n",
       "      <td>...</td>\n",
       "      <td>...</td>\n",
       "      <td>...</td>\n",
       "      <td>...</td>\n",
       "      <td>...</td>\n",
       "      <td>...</td>\n",
       "      <td>...</td>\n",
       "      <td>...</td>\n",
       "      <td>...</td>\n",
       "    </tr>\n",
       "    <tr>\n",
       "      <th>9995</th>\n",
       "      <td>9996</td>\n",
       "      <td>15606229</td>\n",
       "      <td>Obijiaku</td>\n",
       "      <td>771</td>\n",
       "      <td>France</td>\n",
       "      <td>Male</td>\n",
       "      <td>39</td>\n",
       "      <td>5</td>\n",
       "      <td>0.00</td>\n",
       "      <td>2</td>\n",
       "      <td>1</td>\n",
       "      <td>0</td>\n",
       "      <td>96270.64</td>\n",
       "      <td>0</td>\n",
       "    </tr>\n",
       "    <tr>\n",
       "      <th>9996</th>\n",
       "      <td>9997</td>\n",
       "      <td>15569892</td>\n",
       "      <td>Johnstone</td>\n",
       "      <td>516</td>\n",
       "      <td>France</td>\n",
       "      <td>Male</td>\n",
       "      <td>35</td>\n",
       "      <td>10</td>\n",
       "      <td>57369.61</td>\n",
       "      <td>1</td>\n",
       "      <td>1</td>\n",
       "      <td>1</td>\n",
       "      <td>101699.77</td>\n",
       "      <td>0</td>\n",
       "    </tr>\n",
       "    <tr>\n",
       "      <th>9997</th>\n",
       "      <td>9998</td>\n",
       "      <td>15584532</td>\n",
       "      <td>Liu</td>\n",
       "      <td>709</td>\n",
       "      <td>France</td>\n",
       "      <td>Female</td>\n",
       "      <td>36</td>\n",
       "      <td>7</td>\n",
       "      <td>0.00</td>\n",
       "      <td>1</td>\n",
       "      <td>0</td>\n",
       "      <td>1</td>\n",
       "      <td>42085.58</td>\n",
       "      <td>1</td>\n",
       "    </tr>\n",
       "    <tr>\n",
       "      <th>9998</th>\n",
       "      <td>9999</td>\n",
       "      <td>15682355</td>\n",
       "      <td>Sabbatini</td>\n",
       "      <td>772</td>\n",
       "      <td>Germany</td>\n",
       "      <td>Male</td>\n",
       "      <td>42</td>\n",
       "      <td>3</td>\n",
       "      <td>75075.31</td>\n",
       "      <td>2</td>\n",
       "      <td>1</td>\n",
       "      <td>0</td>\n",
       "      <td>92888.52</td>\n",
       "      <td>1</td>\n",
       "    </tr>\n",
       "    <tr>\n",
       "      <th>9999</th>\n",
       "      <td>10000</td>\n",
       "      <td>15628319</td>\n",
       "      <td>Walker</td>\n",
       "      <td>792</td>\n",
       "      <td>France</td>\n",
       "      <td>Female</td>\n",
       "      <td>28</td>\n",
       "      <td>4</td>\n",
       "      <td>130142.79</td>\n",
       "      <td>1</td>\n",
       "      <td>1</td>\n",
       "      <td>0</td>\n",
       "      <td>38190.78</td>\n",
       "      <td>0</td>\n",
       "    </tr>\n",
       "  </tbody>\n",
       "</table>\n",
       "<p>10000 rows × 14 columns</p>\n",
       "</div>"
      ],
      "text/plain": [
       "      RowNumber  CustomerId    Surname  CreditScore Geography  Gender  Age  \\\n",
       "0             1    15634602   Hargrave          619    France  Female   42   \n",
       "1             2    15647311       Hill          608     Spain  Female   41   \n",
       "2             3    15619304       Onio          502    France  Female   42   \n",
       "3             4    15701354       Boni          699    France  Female   39   \n",
       "4             5    15737888   Mitchell          850     Spain  Female   43   \n",
       "...         ...         ...        ...          ...       ...     ...  ...   \n",
       "9995       9996    15606229   Obijiaku          771    France    Male   39   \n",
       "9996       9997    15569892  Johnstone          516    France    Male   35   \n",
       "9997       9998    15584532        Liu          709    France  Female   36   \n",
       "9998       9999    15682355  Sabbatini          772   Germany    Male   42   \n",
       "9999      10000    15628319     Walker          792    France  Female   28   \n",
       "\n",
       "      Tenure    Balance  NumOfProducts  HasCrCard  IsActiveMember  \\\n",
       "0          2       0.00              1          1               1   \n",
       "1          1   83807.86              1          0               1   \n",
       "2          8  159660.80              3          1               0   \n",
       "3          1       0.00              2          0               0   \n",
       "4          2  125510.82              1          1               1   \n",
       "...      ...        ...            ...        ...             ...   \n",
       "9995       5       0.00              2          1               0   \n",
       "9996      10   57369.61              1          1               1   \n",
       "9997       7       0.00              1          0               1   \n",
       "9998       3   75075.31              2          1               0   \n",
       "9999       4  130142.79              1          1               0   \n",
       "\n",
       "      EstimatedSalary  Exited  \n",
       "0           101348.88       1  \n",
       "1           112542.58       0  \n",
       "2           113931.57       1  \n",
       "3            93826.63       0  \n",
       "4            79084.10       0  \n",
       "...               ...     ...  \n",
       "9995         96270.64       0  \n",
       "9996        101699.77       0  \n",
       "9997         42085.58       1  \n",
       "9998         92888.52       1  \n",
       "9999         38190.78       0  \n",
       "\n",
       "[10000 rows x 14 columns]"
      ]
     },
     "execution_count": 10,
     "metadata": {},
     "output_type": "execute_result"
    }
   ],
   "source": [
    "df"
   ]
  },
  {
   "cell_type": "code",
   "execution_count": 11,
   "id": "fab9f826-22c0-4d03-80c0-5bf343ecbc2a",
   "metadata": {},
   "outputs": [],
   "source": [
    "df = df.drop(['RowNumber','CustomerId','Surname'], axis=1)"
   ]
  },
  {
   "cell_type": "code",
   "execution_count": 12,
   "id": "8efdde19-4bd0-4345-bdb9-59ae0a9d93ca",
   "metadata": {},
   "outputs": [
    {
     "data": {
      "text/html": [
       "<div>\n",
       "<style scoped>\n",
       "    .dataframe tbody tr th:only-of-type {\n",
       "        vertical-align: middle;\n",
       "    }\n",
       "\n",
       "    .dataframe tbody tr th {\n",
       "        vertical-align: top;\n",
       "    }\n",
       "\n",
       "    .dataframe thead th {\n",
       "        text-align: right;\n",
       "    }\n",
       "</style>\n",
       "<table border=\"1\" class=\"dataframe\">\n",
       "  <thead>\n",
       "    <tr style=\"text-align: right;\">\n",
       "      <th></th>\n",
       "      <th>CreditScore</th>\n",
       "      <th>Geography</th>\n",
       "      <th>Gender</th>\n",
       "      <th>Age</th>\n",
       "      <th>Tenure</th>\n",
       "      <th>Balance</th>\n",
       "      <th>NumOfProducts</th>\n",
       "      <th>HasCrCard</th>\n",
       "      <th>IsActiveMember</th>\n",
       "      <th>EstimatedSalary</th>\n",
       "      <th>Exited</th>\n",
       "    </tr>\n",
       "  </thead>\n",
       "  <tbody>\n",
       "    <tr>\n",
       "      <th>0</th>\n",
       "      <td>619</td>\n",
       "      <td>France</td>\n",
       "      <td>Female</td>\n",
       "      <td>42</td>\n",
       "      <td>2</td>\n",
       "      <td>0.00</td>\n",
       "      <td>1</td>\n",
       "      <td>1</td>\n",
       "      <td>1</td>\n",
       "      <td>101348.88</td>\n",
       "      <td>1</td>\n",
       "    </tr>\n",
       "    <tr>\n",
       "      <th>1</th>\n",
       "      <td>608</td>\n",
       "      <td>Spain</td>\n",
       "      <td>Female</td>\n",
       "      <td>41</td>\n",
       "      <td>1</td>\n",
       "      <td>83807.86</td>\n",
       "      <td>1</td>\n",
       "      <td>0</td>\n",
       "      <td>1</td>\n",
       "      <td>112542.58</td>\n",
       "      <td>0</td>\n",
       "    </tr>\n",
       "    <tr>\n",
       "      <th>2</th>\n",
       "      <td>502</td>\n",
       "      <td>France</td>\n",
       "      <td>Female</td>\n",
       "      <td>42</td>\n",
       "      <td>8</td>\n",
       "      <td>159660.80</td>\n",
       "      <td>3</td>\n",
       "      <td>1</td>\n",
       "      <td>0</td>\n",
       "      <td>113931.57</td>\n",
       "      <td>1</td>\n",
       "    </tr>\n",
       "    <tr>\n",
       "      <th>3</th>\n",
       "      <td>699</td>\n",
       "      <td>France</td>\n",
       "      <td>Female</td>\n",
       "      <td>39</td>\n",
       "      <td>1</td>\n",
       "      <td>0.00</td>\n",
       "      <td>2</td>\n",
       "      <td>0</td>\n",
       "      <td>0</td>\n",
       "      <td>93826.63</td>\n",
       "      <td>0</td>\n",
       "    </tr>\n",
       "    <tr>\n",
       "      <th>4</th>\n",
       "      <td>850</td>\n",
       "      <td>Spain</td>\n",
       "      <td>Female</td>\n",
       "      <td>43</td>\n",
       "      <td>2</td>\n",
       "      <td>125510.82</td>\n",
       "      <td>1</td>\n",
       "      <td>1</td>\n",
       "      <td>1</td>\n",
       "      <td>79084.10</td>\n",
       "      <td>0</td>\n",
       "    </tr>\n",
       "    <tr>\n",
       "      <th>...</th>\n",
       "      <td>...</td>\n",
       "      <td>...</td>\n",
       "      <td>...</td>\n",
       "      <td>...</td>\n",
       "      <td>...</td>\n",
       "      <td>...</td>\n",
       "      <td>...</td>\n",
       "      <td>...</td>\n",
       "      <td>...</td>\n",
       "      <td>...</td>\n",
       "      <td>...</td>\n",
       "    </tr>\n",
       "    <tr>\n",
       "      <th>9995</th>\n",
       "      <td>771</td>\n",
       "      <td>France</td>\n",
       "      <td>Male</td>\n",
       "      <td>39</td>\n",
       "      <td>5</td>\n",
       "      <td>0.00</td>\n",
       "      <td>2</td>\n",
       "      <td>1</td>\n",
       "      <td>0</td>\n",
       "      <td>96270.64</td>\n",
       "      <td>0</td>\n",
       "    </tr>\n",
       "    <tr>\n",
       "      <th>9996</th>\n",
       "      <td>516</td>\n",
       "      <td>France</td>\n",
       "      <td>Male</td>\n",
       "      <td>35</td>\n",
       "      <td>10</td>\n",
       "      <td>57369.61</td>\n",
       "      <td>1</td>\n",
       "      <td>1</td>\n",
       "      <td>1</td>\n",
       "      <td>101699.77</td>\n",
       "      <td>0</td>\n",
       "    </tr>\n",
       "    <tr>\n",
       "      <th>9997</th>\n",
       "      <td>709</td>\n",
       "      <td>France</td>\n",
       "      <td>Female</td>\n",
       "      <td>36</td>\n",
       "      <td>7</td>\n",
       "      <td>0.00</td>\n",
       "      <td>1</td>\n",
       "      <td>0</td>\n",
       "      <td>1</td>\n",
       "      <td>42085.58</td>\n",
       "      <td>1</td>\n",
       "    </tr>\n",
       "    <tr>\n",
       "      <th>9998</th>\n",
       "      <td>772</td>\n",
       "      <td>Germany</td>\n",
       "      <td>Male</td>\n",
       "      <td>42</td>\n",
       "      <td>3</td>\n",
       "      <td>75075.31</td>\n",
       "      <td>2</td>\n",
       "      <td>1</td>\n",
       "      <td>0</td>\n",
       "      <td>92888.52</td>\n",
       "      <td>1</td>\n",
       "    </tr>\n",
       "    <tr>\n",
       "      <th>9999</th>\n",
       "      <td>792</td>\n",
       "      <td>France</td>\n",
       "      <td>Female</td>\n",
       "      <td>28</td>\n",
       "      <td>4</td>\n",
       "      <td>130142.79</td>\n",
       "      <td>1</td>\n",
       "      <td>1</td>\n",
       "      <td>0</td>\n",
       "      <td>38190.78</td>\n",
       "      <td>0</td>\n",
       "    </tr>\n",
       "  </tbody>\n",
       "</table>\n",
       "<p>10000 rows × 11 columns</p>\n",
       "</div>"
      ],
      "text/plain": [
       "      CreditScore Geography  Gender  Age  Tenure    Balance  NumOfProducts  \\\n",
       "0             619    France  Female   42       2       0.00              1   \n",
       "1             608     Spain  Female   41       1   83807.86              1   \n",
       "2             502    France  Female   42       8  159660.80              3   \n",
       "3             699    France  Female   39       1       0.00              2   \n",
       "4             850     Spain  Female   43       2  125510.82              1   \n",
       "...           ...       ...     ...  ...     ...        ...            ...   \n",
       "9995          771    France    Male   39       5       0.00              2   \n",
       "9996          516    France    Male   35      10   57369.61              1   \n",
       "9997          709    France  Female   36       7       0.00              1   \n",
       "9998          772   Germany    Male   42       3   75075.31              2   \n",
       "9999          792    France  Female   28       4  130142.79              1   \n",
       "\n",
       "      HasCrCard  IsActiveMember  EstimatedSalary  Exited  \n",
       "0             1               1        101348.88       1  \n",
       "1             0               1        112542.58       0  \n",
       "2             1               0        113931.57       1  \n",
       "3             0               0         93826.63       0  \n",
       "4             1               1         79084.10       0  \n",
       "...         ...             ...              ...     ...  \n",
       "9995          1               0         96270.64       0  \n",
       "9996          1               1        101699.77       0  \n",
       "9997          0               1         42085.58       1  \n",
       "9998          1               0         92888.52       1  \n",
       "9999          1               0         38190.78       0  \n",
       "\n",
       "[10000 rows x 11 columns]"
      ]
     },
     "execution_count": 12,
     "metadata": {},
     "output_type": "execute_result"
    }
   ],
   "source": [
    "df"
   ]
  },
  {
   "cell_type": "code",
   "execution_count": 13,
   "id": "0ed605ab-73c8-477d-b800-0311901e4d8f",
   "metadata": {},
   "outputs": [],
   "source": [
    "var_cat = ['Geography','Gender']"
   ]
  },
  {
   "cell_type": "code",
   "execution_count": 14,
   "id": "d758701c-4312-4692-9acd-fb7353cb710d",
   "metadata": {},
   "outputs": [],
   "source": [
    "var_num = ['CreditScore','Age', 'Tenure', 'Balance','NumOfProducts','EstimatedSalary','HasCrCard','IsActiveMember']"
   ]
  },
  {
   "cell_type": "code",
   "execution_count": 15,
   "id": "cb4021fe-abb6-4121-9a7d-c131c27d3175",
   "metadata": {},
   "outputs": [],
   "source": [
    "var_target = ['Exited']"
   ]
  },
  {
   "cell_type": "code",
   "execution_count": 16,
   "id": "56aa07aa-cb3f-4ad3-823a-59e54e94304a",
   "metadata": {},
   "outputs": [],
   "source": [
    "features = list(var_cat + var_num)"
   ]
  },
  {
   "cell_type": "code",
   "execution_count": 17,
   "id": "4e380939-a5cd-4aef-a505-7a2db88671b6",
   "metadata": {},
   "outputs": [
    {
     "name": "stdout",
     "output_type": "stream",
     "text": [
      "<class 'pandas.core.frame.DataFrame'>\n",
      "RangeIndex: 10000 entries, 0 to 9999\n",
      "Data columns (total 11 columns):\n",
      " #   Column           Non-Null Count  Dtype  \n",
      "---  ------           --------------  -----  \n",
      " 0   CreditScore      10000 non-null  int64  \n",
      " 1   Geography        10000 non-null  object \n",
      " 2   Gender           10000 non-null  object \n",
      " 3   Age              10000 non-null  int64  \n",
      " 4   Tenure           10000 non-null  int64  \n",
      " 5   Balance          10000 non-null  float64\n",
      " 6   NumOfProducts    10000 non-null  int64  \n",
      " 7   HasCrCard        10000 non-null  int64  \n",
      " 8   IsActiveMember   10000 non-null  int64  \n",
      " 9   EstimatedSalary  10000 non-null  float64\n",
      " 10  Exited           10000 non-null  int64  \n",
      "dtypes: float64(2), int64(7), object(2)\n",
      "memory usage: 859.5+ KB\n"
     ]
    }
   ],
   "source": [
    "df.info()"
   ]
  },
  {
   "cell_type": "code",
   "execution_count": 18,
   "id": "244f2e74-843b-4f53-a437-d625a4a59ecb",
   "metadata": {},
   "outputs": [
    {
     "data": {
      "text/plain": [
       "['Geography',\n",
       " 'Gender',\n",
       " 'CreditScore',\n",
       " 'Age',\n",
       " 'Tenure',\n",
       " 'Balance',\n",
       " 'NumOfProducts',\n",
       " 'EstimatedSalary',\n",
       " 'HasCrCard',\n",
       " 'IsActiveMember']"
      ]
     },
     "execution_count": 18,
     "metadata": {},
     "output_type": "execute_result"
    }
   ],
   "source": [
    "features"
   ]
  },
  {
   "cell_type": "code",
   "execution_count": 19,
   "id": "940b1b3c-9fda-4971-9be3-dc12dcbd39de",
   "metadata": {},
   "outputs": [],
   "source": [
    "X = df[features]\n",
    "y = df[var_target]"
   ]
  },
  {
   "cell_type": "markdown",
   "id": "9e8580e2-0da3-482e-b490-106c7f0da4ec",
   "metadata": {
    "tags": []
   },
   "source": [
    "### Spliting Data"
   ]
  },
  {
   "cell_type": "code",
   "execution_count": 20,
   "id": "f6079016-0356-47bc-8d5e-cff8699709e2",
   "metadata": {},
   "outputs": [],
   "source": [
    "X_train, X_test, y_train, y_test = train_test_split(X, y, test_size = 0.25, random_state = 0)"
   ]
  },
  {
   "cell_type": "code",
   "execution_count": 21,
   "id": "1502be1f-215c-4562-859d-2b0cf2e35b04",
   "metadata": {},
   "outputs": [
    {
     "data": {
      "text/plain": [
       "(10000, 7500, 2500, 7500, 2500)"
      ]
     },
     "execution_count": 21,
     "metadata": {},
     "output_type": "execute_result"
    }
   ],
   "source": [
    "len(X), len(X_train), len(X_test), len(y_train), len(y_test)"
   ]
  },
  {
   "cell_type": "code",
   "execution_count": 22,
   "id": "21ba75b0-bcde-4bf0-b056-057e52b6e585",
   "metadata": {},
   "outputs": [
    {
     "data": {
      "text/html": [
       "<div>\n",
       "<style scoped>\n",
       "    .dataframe tbody tr th:only-of-type {\n",
       "        vertical-align: middle;\n",
       "    }\n",
       "\n",
       "    .dataframe tbody tr th {\n",
       "        vertical-align: top;\n",
       "    }\n",
       "\n",
       "    .dataframe thead th {\n",
       "        text-align: right;\n",
       "    }\n",
       "</style>\n",
       "<table border=\"1\" class=\"dataframe\">\n",
       "  <thead>\n",
       "    <tr style=\"text-align: right;\">\n",
       "      <th></th>\n",
       "      <th>Geography</th>\n",
       "      <th>Gender</th>\n",
       "      <th>CreditScore</th>\n",
       "      <th>Age</th>\n",
       "      <th>Tenure</th>\n",
       "      <th>Balance</th>\n",
       "      <th>NumOfProducts</th>\n",
       "      <th>EstimatedSalary</th>\n",
       "      <th>HasCrCard</th>\n",
       "      <th>IsActiveMember</th>\n",
       "    </tr>\n",
       "  </thead>\n",
       "  <tbody>\n",
       "    <tr>\n",
       "      <th>2967</th>\n",
       "      <td>Germany</td>\n",
       "      <td>Female</td>\n",
       "      <td>579</td>\n",
       "      <td>39</td>\n",
       "      <td>5</td>\n",
       "      <td>117833.30</td>\n",
       "      <td>3</td>\n",
       "      <td>5831.00</td>\n",
       "      <td>0</td>\n",
       "      <td>0</td>\n",
       "    </tr>\n",
       "    <tr>\n",
       "      <th>700</th>\n",
       "      <td>France</td>\n",
       "      <td>Female</td>\n",
       "      <td>750</td>\n",
       "      <td>32</td>\n",
       "      <td>5</td>\n",
       "      <td>0.00</td>\n",
       "      <td>2</td>\n",
       "      <td>95611.47</td>\n",
       "      <td>1</td>\n",
       "      <td>0</td>\n",
       "    </tr>\n",
       "    <tr>\n",
       "      <th>3481</th>\n",
       "      <td>Spain</td>\n",
       "      <td>Female</td>\n",
       "      <td>729</td>\n",
       "      <td>34</td>\n",
       "      <td>9</td>\n",
       "      <td>53299.96</td>\n",
       "      <td>2</td>\n",
       "      <td>42855.97</td>\n",
       "      <td>1</td>\n",
       "      <td>1</td>\n",
       "    </tr>\n",
       "    <tr>\n",
       "      <th>1621</th>\n",
       "      <td>Spain</td>\n",
       "      <td>Male</td>\n",
       "      <td>689</td>\n",
       "      <td>38</td>\n",
       "      <td>5</td>\n",
       "      <td>75075.14</td>\n",
       "      <td>1</td>\n",
       "      <td>8651.92</td>\n",
       "      <td>1</td>\n",
       "      <td>1</td>\n",
       "    </tr>\n",
       "    <tr>\n",
       "      <th>800</th>\n",
       "      <td>France</td>\n",
       "      <td>Male</td>\n",
       "      <td>605</td>\n",
       "      <td>52</td>\n",
       "      <td>7</td>\n",
       "      <td>0.00</td>\n",
       "      <td>2</td>\n",
       "      <td>173952.50</td>\n",
       "      <td>1</td>\n",
       "      <td>1</td>\n",
       "    </tr>\n",
       "    <tr>\n",
       "      <th>...</th>\n",
       "      <td>...</td>\n",
       "      <td>...</td>\n",
       "      <td>...</td>\n",
       "      <td>...</td>\n",
       "      <td>...</td>\n",
       "      <td>...</td>\n",
       "      <td>...</td>\n",
       "      <td>...</td>\n",
       "      <td>...</td>\n",
       "      <td>...</td>\n",
       "    </tr>\n",
       "    <tr>\n",
       "      <th>9225</th>\n",
       "      <td>Germany</td>\n",
       "      <td>Female</td>\n",
       "      <td>594</td>\n",
       "      <td>32</td>\n",
       "      <td>4</td>\n",
       "      <td>120074.97</td>\n",
       "      <td>2</td>\n",
       "      <td>162961.79</td>\n",
       "      <td>1</td>\n",
       "      <td>1</td>\n",
       "    </tr>\n",
       "    <tr>\n",
       "      <th>4859</th>\n",
       "      <td>Spain</td>\n",
       "      <td>Female</td>\n",
       "      <td>794</td>\n",
       "      <td>22</td>\n",
       "      <td>4</td>\n",
       "      <td>114440.24</td>\n",
       "      <td>1</td>\n",
       "      <td>107753.07</td>\n",
       "      <td>1</td>\n",
       "      <td>1</td>\n",
       "    </tr>\n",
       "    <tr>\n",
       "      <th>3264</th>\n",
       "      <td>France</td>\n",
       "      <td>Male</td>\n",
       "      <td>738</td>\n",
       "      <td>35</td>\n",
       "      <td>5</td>\n",
       "      <td>161274.05</td>\n",
       "      <td>2</td>\n",
       "      <td>181429.87</td>\n",
       "      <td>1</td>\n",
       "      <td>0</td>\n",
       "    </tr>\n",
       "    <tr>\n",
       "      <th>9845</th>\n",
       "      <td>Spain</td>\n",
       "      <td>Female</td>\n",
       "      <td>590</td>\n",
       "      <td>38</td>\n",
       "      <td>9</td>\n",
       "      <td>0.00</td>\n",
       "      <td>2</td>\n",
       "      <td>148750.16</td>\n",
       "      <td>1</td>\n",
       "      <td>1</td>\n",
       "    </tr>\n",
       "    <tr>\n",
       "      <th>2732</th>\n",
       "      <td>Germany</td>\n",
       "      <td>Female</td>\n",
       "      <td>623</td>\n",
       "      <td>48</td>\n",
       "      <td>1</td>\n",
       "      <td>108076.33</td>\n",
       "      <td>1</td>\n",
       "      <td>118855.26</td>\n",
       "      <td>1</td>\n",
       "      <td>0</td>\n",
       "    </tr>\n",
       "  </tbody>\n",
       "</table>\n",
       "<p>7500 rows × 10 columns</p>\n",
       "</div>"
      ],
      "text/plain": [
       "     Geography  Gender  CreditScore  Age  Tenure    Balance  NumOfProducts  \\\n",
       "2967   Germany  Female          579   39       5  117833.30              3   \n",
       "700     France  Female          750   32       5       0.00              2   \n",
       "3481     Spain  Female          729   34       9   53299.96              2   \n",
       "1621     Spain    Male          689   38       5   75075.14              1   \n",
       "800     France    Male          605   52       7       0.00              2   \n",
       "...        ...     ...          ...  ...     ...        ...            ...   \n",
       "9225   Germany  Female          594   32       4  120074.97              2   \n",
       "4859     Spain  Female          794   22       4  114440.24              1   \n",
       "3264    France    Male          738   35       5  161274.05              2   \n",
       "9845     Spain  Female          590   38       9       0.00              2   \n",
       "2732   Germany  Female          623   48       1  108076.33              1   \n",
       "\n",
       "      EstimatedSalary  HasCrCard  IsActiveMember  \n",
       "2967          5831.00          0               0  \n",
       "700          95611.47          1               0  \n",
       "3481         42855.97          1               1  \n",
       "1621          8651.92          1               1  \n",
       "800         173952.50          1               1  \n",
       "...               ...        ...             ...  \n",
       "9225        162961.79          1               1  \n",
       "4859        107753.07          1               1  \n",
       "3264        181429.87          1               0  \n",
       "9845        148750.16          1               1  \n",
       "2732        118855.26          1               0  \n",
       "\n",
       "[7500 rows x 10 columns]"
      ]
     },
     "execution_count": 22,
     "metadata": {},
     "output_type": "execute_result"
    }
   ],
   "source": [
    "X_train"
   ]
  },
  {
   "cell_type": "markdown",
   "id": "7886e7e5-abad-4467-baeb-42b5837e0249",
   "metadata": {
    "tags": []
   },
   "source": [
    "### Categorização"
   ]
  },
  {
   "cell_type": "markdown",
   "id": "bc1d70ab-9de9-4f4e-a7e4-128036b64242",
   "metadata": {},
   "source": [
    "#### Target Enconder\n",
    "    "
   ]
  },
  {
   "cell_type": "code",
   "execution_count": 22,
   "id": "c2e109ef-057b-4bd3-8464-0c228f2d696a",
   "metadata": {},
   "outputs": [
    {
     "name": "stderr",
     "output_type": "stream",
     "text": [
      "C:\\ProgramData\\Anaconda3\\lib\\site-packages\\category_encoders\\target_encoder.py:92: FutureWarning: Default parameter min_samples_leaf will change in version 2.6.See https://github.com/scikit-learn-contrib/category_encoders/issues/327\n",
      "  warnings.warn(\"Default parameter min_samples_leaf will change in version 2.6.\"\n",
      "C:\\ProgramData\\Anaconda3\\lib\\site-packages\\category_encoders\\target_encoder.py:97: FutureWarning: Default parameter smoothing will change in version 2.6.See https://github.com/scikit-learn-contrib/category_encoders/issues/327\n",
      "  warnings.warn(\"Default parameter smoothing will change in version 2.6.\"\n"
     ]
    },
    {
     "data": {
      "text/plain": [
       "TargetEncoder(cols=['Geography', 'Gender'], verbose=10)"
      ]
     },
     "execution_count": 22,
     "metadata": {},
     "output_type": "execute_result"
    }
   ],
   "source": [
    "target_enconder = ce.TargetEncoder(\n",
    "    cols=var_cat,\n",
    "    verbose=10\n",
    ")\n",
    "target_enconder.fit(X,y)"
   ]
  },
  {
   "cell_type": "code",
   "execution_count": 23,
   "id": "36582828-b3b2-4dfc-846e-c6ccfedc134e",
   "metadata": {},
   "outputs": [],
   "source": [
    "X_train = target_enconder.transform(X_train)\n",
    "X_test = target_enconder.transform(X_test)"
   ]
  },
  {
   "cell_type": "markdown",
   "id": "b29721f4-b4b4-4876-b318-9ee9baedf59d",
   "metadata": {},
   "source": [
    "#### OneHot Enconder"
   ]
  },
  {
   "cell_type": "code",
   "execution_count": 24,
   "id": "bc6f3739-d72d-43d4-b8fd-063b4073e58b",
   "metadata": {},
   "outputs": [
    {
     "data": {
      "text/plain": [
       "OneHotEncoder(cols=['Geography', 'Gender'])"
      ]
     },
     "execution_count": 24,
     "metadata": {},
     "output_type": "execute_result"
    }
   ],
   "source": [
    "onehot_enconder = ce.OneHotEncoder(cols=var_cat)\n",
    "onehot_enconder.fit(X_train)"
   ]
  },
  {
   "cell_type": "code",
   "execution_count": 25,
   "id": "0e8409a1-c5f4-472e-b910-c1c766516fb8",
   "metadata": {},
   "outputs": [],
   "source": [
    "X_train_OHE = onehot_enconder.transform(X_train)\n",
    "X_test_OHE = onehot_enconder.transform(X_test)"
   ]
  },
  {
   "cell_type": "markdown",
   "id": "4418d7ba-6089-41ab-be20-cf85f5945040",
   "metadata": {
    "tags": []
   },
   "source": [
    "### Padronização"
   ]
  },
  {
   "cell_type": "code",
   "execution_count": 26,
   "id": "e0d8d951-99c9-4a67-a002-aa38be9b89a1",
   "metadata": {},
   "outputs": [],
   "source": [
    "mm_scaler = MinMaxScaler()\n",
    "X_train_mm = mm_scaler.fit_transform(X_train[var_num])\n",
    "X_test_mm = mm_scaler.transform(X_test[var_num])"
   ]
  },
  {
   "cell_type": "code",
   "execution_count": 27,
   "id": "dcd75629-ca1d-4043-a002-d3ee41fb107b",
   "metadata": {},
   "outputs": [
    {
     "data": {
      "text/plain": [
       "array([[0.458     , 0.31343284, 0.5       , ..., 0.02909988, 0.        ,\n",
       "        0.        ],\n",
       "       [0.8       , 0.20895522, 0.5       , ..., 0.4780451 , 1.        ,\n",
       "        0.        ],\n",
       "       [0.758     , 0.23880597, 0.9       , ..., 0.21424241, 1.        ,\n",
       "        1.        ],\n",
       "       ...,\n",
       "       [0.776     , 0.25373134, 0.5       , ..., 0.90717809, 1.        ,\n",
       "        0.        ],\n",
       "       [0.48      , 0.29850746, 0.9       , ..., 0.74376393, 1.        ,\n",
       "        1.        ],\n",
       "       [0.546     , 0.44776119, 0.1       , ..., 0.59427515, 1.        ,\n",
       "        0.        ]])"
      ]
     },
     "execution_count": 27,
     "metadata": {},
     "output_type": "execute_result"
    }
   ],
   "source": [
    "X_train_mm"
   ]
  },
  {
   "cell_type": "code",
   "execution_count": 28,
   "id": "15a163bf-9a09-4057-abeb-092d7d095bb0",
   "metadata": {},
   "outputs": [],
   "source": [
    "ss = StandardScaler()\n",
    "X_train_ss = ss.fit_transform(X_train[var_num])\n",
    "X_test_ss = ss.transform(X_test[var_num])"
   ]
  },
  {
   "cell_type": "code",
   "execution_count": 30,
   "id": "815d4a31-45bd-4d36-9374-77817303793b",
   "metadata": {},
   "outputs": [
    {
     "data": {
      "text/plain": [
       "array([[-0.73550706,  0.01526571,  0.00886037, ..., -1.64080994,\n",
       "        -1.55362351, -1.03446007],\n",
       "       [ 1.02442719, -0.65260917,  0.00886037, ..., -0.07927152,\n",
       "         0.64365658, -1.03446007],\n",
       "       [ 0.80829492, -0.46178778,  1.39329338, ..., -0.99684012,\n",
       "         0.64365658,  0.96668786],\n",
       "       ...,\n",
       "       [ 0.90092304, -0.36637708,  0.00886037, ...,  1.4133552 ,\n",
       "         0.64365658, -1.03446007],\n",
       "       [-0.62229491, -0.08014499,  1.39329338, ...,  0.84496184,\n",
       "         0.64365658,  0.96668786],\n",
       "       [-0.28265848,  0.87396199, -1.37557264, ...,  0.32500428,\n",
       "         0.64365658, -1.03446007]])"
      ]
     },
     "execution_count": 30,
     "metadata": {},
     "output_type": "execute_result"
    }
   ],
   "source": [
    "X_train_ss"
   ]
  },
  {
   "cell_type": "markdown",
   "id": "b9e4907e-3540-40bf-8996-bc868c9ea47c",
   "metadata": {
    "tags": []
   },
   "source": [
    "### Final Dataset"
   ]
  },
  {
   "cell_type": "code",
   "execution_count": 31,
   "id": "7d1a70d2-79ab-4b03-b895-1057d4ed6f17",
   "metadata": {},
   "outputs": [],
   "source": [
    "X_train_scaled = pd.DataFrame(X_train_ss, index = X_train[var_num].index, columns = X_train[var_num].columns)\n",
    "X_test_scaled = pd.DataFrame(X_test_ss, index = X_test[var_num].index, columns = X_test[var_num].columns)"
   ]
  },
  {
   "cell_type": "code",
   "execution_count": 32,
   "id": "63fa9b94-1af8-4101-bcdf-81f03ba502fb",
   "metadata": {},
   "outputs": [
    {
     "data": {
      "text/html": [
       "<div>\n",
       "<style scoped>\n",
       "    .dataframe tbody tr th:only-of-type {\n",
       "        vertical-align: middle;\n",
       "    }\n",
       "\n",
       "    .dataframe tbody tr th {\n",
       "        vertical-align: top;\n",
       "    }\n",
       "\n",
       "    .dataframe thead th {\n",
       "        text-align: right;\n",
       "    }\n",
       "</style>\n",
       "<table border=\"1\" class=\"dataframe\">\n",
       "  <thead>\n",
       "    <tr style=\"text-align: right;\">\n",
       "      <th></th>\n",
       "      <th>CreditScore</th>\n",
       "      <th>Age</th>\n",
       "      <th>Tenure</th>\n",
       "      <th>Balance</th>\n",
       "      <th>NumOfProducts</th>\n",
       "      <th>EstimatedSalary</th>\n",
       "      <th>HasCrCard</th>\n",
       "      <th>IsActiveMember</th>\n",
       "    </tr>\n",
       "  </thead>\n",
       "  <tbody>\n",
       "    <tr>\n",
       "      <th>9394</th>\n",
       "      <td>-0.550251</td>\n",
       "      <td>-0.366377</td>\n",
       "      <td>1.047185</td>\n",
       "      <td>0.884943</td>\n",
       "      <td>-0.926551</td>\n",
       "      <td>1.612030</td>\n",
       "      <td>0.643657</td>\n",
       "      <td>0.966688</td>\n",
       "    </tr>\n",
       "    <tr>\n",
       "      <th>898</th>\n",
       "      <td>-1.311860</td>\n",
       "      <td>0.110676</td>\n",
       "      <td>-1.029464</td>\n",
       "      <td>0.435867</td>\n",
       "      <td>-0.926551</td>\n",
       "      <td>0.496269</td>\n",
       "      <td>0.643657</td>\n",
       "      <td>-1.034460</td>\n",
       "    </tr>\n",
       "    <tr>\n",
       "      <th>2398</th>\n",
       "      <td>0.571579</td>\n",
       "      <td>0.301498</td>\n",
       "      <td>1.047185</td>\n",
       "      <td>0.314864</td>\n",
       "      <td>-0.926551</td>\n",
       "      <td>-0.425028</td>\n",
       "      <td>0.643657</td>\n",
       "      <td>0.966688</td>\n",
       "    </tr>\n",
       "    <tr>\n",
       "      <th>5906</th>\n",
       "      <td>1.415524</td>\n",
       "      <td>-0.652609</td>\n",
       "      <td>-0.337248</td>\n",
       "      <td>0.581318</td>\n",
       "      <td>-0.926551</td>\n",
       "      <td>-0.187853</td>\n",
       "      <td>-1.553624</td>\n",
       "      <td>-1.034460</td>\n",
       "    </tr>\n",
       "    <tr>\n",
       "      <th>2343</th>\n",
       "      <td>0.571579</td>\n",
       "      <td>-0.080145</td>\n",
       "      <td>0.008860</td>\n",
       "      <td>1.394678</td>\n",
       "      <td>0.804242</td>\n",
       "      <td>0.617324</td>\n",
       "      <td>0.643657</td>\n",
       "      <td>0.966688</td>\n",
       "    </tr>\n",
       "    <tr>\n",
       "      <th>...</th>\n",
       "      <td>...</td>\n",
       "      <td>...</td>\n",
       "      <td>...</td>\n",
       "      <td>...</td>\n",
       "      <td>...</td>\n",
       "      <td>...</td>\n",
       "      <td>...</td>\n",
       "      <td>...</td>\n",
       "    </tr>\n",
       "    <tr>\n",
       "      <th>8764</th>\n",
       "      <td>1.261143</td>\n",
       "      <td>1.160194</td>\n",
       "      <td>1.047185</td>\n",
       "      <td>0.647051</td>\n",
       "      <td>0.804242</td>\n",
       "      <td>-0.234243</td>\n",
       "      <td>0.643657</td>\n",
       "      <td>0.966688</td>\n",
       "    </tr>\n",
       "    <tr>\n",
       "      <th>4359</th>\n",
       "      <td>-1.085436</td>\n",
       "      <td>0.492319</td>\n",
       "      <td>-1.029464</td>\n",
       "      <td>0.828044</td>\n",
       "      <td>-0.926551</td>\n",
       "      <td>0.143134</td>\n",
       "      <td>0.643657</td>\n",
       "      <td>-1.034460</td>\n",
       "    </tr>\n",
       "    <tr>\n",
       "      <th>2041</th>\n",
       "      <td>1.950708</td>\n",
       "      <td>0.015266</td>\n",
       "      <td>-1.375573</td>\n",
       "      <td>0.308194</td>\n",
       "      <td>-0.926551</td>\n",
       "      <td>-0.272747</td>\n",
       "      <td>0.643657</td>\n",
       "      <td>-1.034460</td>\n",
       "    </tr>\n",
       "    <tr>\n",
       "      <th>1108</th>\n",
       "      <td>0.293694</td>\n",
       "      <td>-0.080145</td>\n",
       "      <td>0.701077</td>\n",
       "      <td>0.556988</td>\n",
       "      <td>0.804242</td>\n",
       "      <td>-0.933066</td>\n",
       "      <td>0.643657</td>\n",
       "      <td>-1.034460</td>\n",
       "    </tr>\n",
       "    <tr>\n",
       "      <th>3332</th>\n",
       "      <td>0.870047</td>\n",
       "      <td>-0.748020</td>\n",
       "      <td>-0.683356</td>\n",
       "      <td>0.700696</td>\n",
       "      <td>-0.926551</td>\n",
       "      <td>-0.473807</td>\n",
       "      <td>-1.553624</td>\n",
       "      <td>-1.034460</td>\n",
       "    </tr>\n",
       "  </tbody>\n",
       "</table>\n",
       "<p>2500 rows × 8 columns</p>\n",
       "</div>"
      ],
      "text/plain": [
       "      CreditScore       Age    Tenure   Balance  NumOfProducts  \\\n",
       "9394    -0.550251 -0.366377  1.047185  0.884943      -0.926551   \n",
       "898     -1.311860  0.110676 -1.029464  0.435867      -0.926551   \n",
       "2398     0.571579  0.301498  1.047185  0.314864      -0.926551   \n",
       "5906     1.415524 -0.652609 -0.337248  0.581318      -0.926551   \n",
       "2343     0.571579 -0.080145  0.008860  1.394678       0.804242   \n",
       "...           ...       ...       ...       ...            ...   \n",
       "8764     1.261143  1.160194  1.047185  0.647051       0.804242   \n",
       "4359    -1.085436  0.492319 -1.029464  0.828044      -0.926551   \n",
       "2041     1.950708  0.015266 -1.375573  0.308194      -0.926551   \n",
       "1108     0.293694 -0.080145  0.701077  0.556988       0.804242   \n",
       "3332     0.870047 -0.748020 -0.683356  0.700696      -0.926551   \n",
       "\n",
       "      EstimatedSalary  HasCrCard  IsActiveMember  \n",
       "9394         1.612030   0.643657        0.966688  \n",
       "898          0.496269   0.643657       -1.034460  \n",
       "2398        -0.425028   0.643657        0.966688  \n",
       "5906        -0.187853  -1.553624       -1.034460  \n",
       "2343         0.617324   0.643657        0.966688  \n",
       "...               ...        ...             ...  \n",
       "8764        -0.234243   0.643657        0.966688  \n",
       "4359         0.143134   0.643657       -1.034460  \n",
       "2041        -0.272747   0.643657       -1.034460  \n",
       "1108        -0.933066   0.643657       -1.034460  \n",
       "3332        -0.473807  -1.553624       -1.034460  \n",
       "\n",
       "[2500 rows x 8 columns]"
      ]
     },
     "execution_count": 32,
     "metadata": {},
     "output_type": "execute_result"
    }
   ],
   "source": [
    "\n",
    "X_test_scaled "
   ]
  },
  {
   "cell_type": "code",
   "execution_count": 34,
   "id": "8319849a-6632-426a-be0e-e7611cf8235c",
   "metadata": {},
   "outputs": [
    {
     "data": {
      "text/html": [
       "<div>\n",
       "<style scoped>\n",
       "    .dataframe tbody tr th:only-of-type {\n",
       "        vertical-align: middle;\n",
       "    }\n",
       "\n",
       "    .dataframe tbody tr th {\n",
       "        vertical-align: top;\n",
       "    }\n",
       "\n",
       "    .dataframe thead th {\n",
       "        text-align: right;\n",
       "    }\n",
       "</style>\n",
       "<table border=\"1\" class=\"dataframe\">\n",
       "  <thead>\n",
       "    <tr style=\"text-align: right;\">\n",
       "      <th></th>\n",
       "      <th>Geography</th>\n",
       "      <th>Gender</th>\n",
       "    </tr>\n",
       "  </thead>\n",
       "  <tbody>\n",
       "    <tr>\n",
       "      <th>2967</th>\n",
       "      <td>0.324432</td>\n",
       "      <td>0.250715</td>\n",
       "    </tr>\n",
       "    <tr>\n",
       "      <th>700</th>\n",
       "      <td>0.161548</td>\n",
       "      <td>0.250715</td>\n",
       "    </tr>\n",
       "    <tr>\n",
       "      <th>3481</th>\n",
       "      <td>0.166734</td>\n",
       "      <td>0.250715</td>\n",
       "    </tr>\n",
       "    <tr>\n",
       "      <th>1621</th>\n",
       "      <td>0.166734</td>\n",
       "      <td>0.164559</td>\n",
       "    </tr>\n",
       "    <tr>\n",
       "      <th>800</th>\n",
       "      <td>0.161548</td>\n",
       "      <td>0.164559</td>\n",
       "    </tr>\n",
       "    <tr>\n",
       "      <th>...</th>\n",
       "      <td>...</td>\n",
       "      <td>...</td>\n",
       "    </tr>\n",
       "    <tr>\n",
       "      <th>9225</th>\n",
       "      <td>0.324432</td>\n",
       "      <td>0.250715</td>\n",
       "    </tr>\n",
       "    <tr>\n",
       "      <th>4859</th>\n",
       "      <td>0.166734</td>\n",
       "      <td>0.250715</td>\n",
       "    </tr>\n",
       "    <tr>\n",
       "      <th>3264</th>\n",
       "      <td>0.161548</td>\n",
       "      <td>0.164559</td>\n",
       "    </tr>\n",
       "    <tr>\n",
       "      <th>9845</th>\n",
       "      <td>0.166734</td>\n",
       "      <td>0.250715</td>\n",
       "    </tr>\n",
       "    <tr>\n",
       "      <th>2732</th>\n",
       "      <td>0.324432</td>\n",
       "      <td>0.250715</td>\n",
       "    </tr>\n",
       "  </tbody>\n",
       "</table>\n",
       "<p>7500 rows × 2 columns</p>\n",
       "</div>"
      ],
      "text/plain": [
       "      Geography    Gender\n",
       "2967   0.324432  0.250715\n",
       "700    0.161548  0.250715\n",
       "3481   0.166734  0.250715\n",
       "1621   0.166734  0.164559\n",
       "800    0.161548  0.164559\n",
       "...         ...       ...\n",
       "9225   0.324432  0.250715\n",
       "4859   0.166734  0.250715\n",
       "3264   0.161548  0.164559\n",
       "9845   0.166734  0.250715\n",
       "2732   0.324432  0.250715\n",
       "\n",
       "[7500 rows x 2 columns]"
      ]
     },
     "execution_count": 34,
     "metadata": {},
     "output_type": "execute_result"
    }
   ],
   "source": [
    "X_train[var_cat]"
   ]
  },
  {
   "cell_type": "code",
   "execution_count": 35,
   "id": "befd7438-7962-4c9d-8ba2-662f891720ca",
   "metadata": {},
   "outputs": [],
   "source": [
    "Xs_train = pd.concat([X_train_scaled, X_train[var_cat]], axis=1)\n",
    "Xs_test = pd.concat([X_test_scaled, X_test[var_cat]], axis=1)"
   ]
  },
  {
   "cell_type": "code",
   "execution_count": 36,
   "id": "02048337-f09b-4f20-9c32-82182e3a1585",
   "metadata": {},
   "outputs": [
    {
     "data": {
      "text/html": [
       "<div>\n",
       "<style scoped>\n",
       "    .dataframe tbody tr th:only-of-type {\n",
       "        vertical-align: middle;\n",
       "    }\n",
       "\n",
       "    .dataframe tbody tr th {\n",
       "        vertical-align: top;\n",
       "    }\n",
       "\n",
       "    .dataframe thead th {\n",
       "        text-align: right;\n",
       "    }\n",
       "</style>\n",
       "<table border=\"1\" class=\"dataframe\">\n",
       "  <thead>\n",
       "    <tr style=\"text-align: right;\">\n",
       "      <th></th>\n",
       "      <th>CreditScore</th>\n",
       "      <th>Age</th>\n",
       "      <th>Tenure</th>\n",
       "      <th>Balance</th>\n",
       "      <th>NumOfProducts</th>\n",
       "      <th>EstimatedSalary</th>\n",
       "      <th>HasCrCard</th>\n",
       "      <th>IsActiveMember</th>\n",
       "      <th>Geography</th>\n",
       "      <th>Gender</th>\n",
       "    </tr>\n",
       "  </thead>\n",
       "  <tbody>\n",
       "    <tr>\n",
       "      <th>9394</th>\n",
       "      <td>-0.550251</td>\n",
       "      <td>-0.366377</td>\n",
       "      <td>1.047185</td>\n",
       "      <td>0.884943</td>\n",
       "      <td>-0.926551</td>\n",
       "      <td>1.612030</td>\n",
       "      <td>0.643657</td>\n",
       "      <td>0.966688</td>\n",
       "      <td>0.324432</td>\n",
       "      <td>0.250715</td>\n",
       "    </tr>\n",
       "    <tr>\n",
       "      <th>898</th>\n",
       "      <td>-1.311860</td>\n",
       "      <td>0.110676</td>\n",
       "      <td>-1.029464</td>\n",
       "      <td>0.435867</td>\n",
       "      <td>-0.926551</td>\n",
       "      <td>0.496269</td>\n",
       "      <td>0.643657</td>\n",
       "      <td>-1.034460</td>\n",
       "      <td>0.161548</td>\n",
       "      <td>0.250715</td>\n",
       "    </tr>\n",
       "    <tr>\n",
       "      <th>2398</th>\n",
       "      <td>0.571579</td>\n",
       "      <td>0.301498</td>\n",
       "      <td>1.047185</td>\n",
       "      <td>0.314864</td>\n",
       "      <td>-0.926551</td>\n",
       "      <td>-0.425028</td>\n",
       "      <td>0.643657</td>\n",
       "      <td>0.966688</td>\n",
       "      <td>0.166734</td>\n",
       "      <td>0.250715</td>\n",
       "    </tr>\n",
       "    <tr>\n",
       "      <th>5906</th>\n",
       "      <td>1.415524</td>\n",
       "      <td>-0.652609</td>\n",
       "      <td>-0.337248</td>\n",
       "      <td>0.581318</td>\n",
       "      <td>-0.926551</td>\n",
       "      <td>-0.187853</td>\n",
       "      <td>-1.553624</td>\n",
       "      <td>-1.034460</td>\n",
       "      <td>0.161548</td>\n",
       "      <td>0.164559</td>\n",
       "    </tr>\n",
       "    <tr>\n",
       "      <th>2343</th>\n",
       "      <td>0.571579</td>\n",
       "      <td>-0.080145</td>\n",
       "      <td>0.008860</td>\n",
       "      <td>1.394678</td>\n",
       "      <td>0.804242</td>\n",
       "      <td>0.617324</td>\n",
       "      <td>0.643657</td>\n",
       "      <td>0.966688</td>\n",
       "      <td>0.324432</td>\n",
       "      <td>0.164559</td>\n",
       "    </tr>\n",
       "    <tr>\n",
       "      <th>...</th>\n",
       "      <td>...</td>\n",
       "      <td>...</td>\n",
       "      <td>...</td>\n",
       "      <td>...</td>\n",
       "      <td>...</td>\n",
       "      <td>...</td>\n",
       "      <td>...</td>\n",
       "      <td>...</td>\n",
       "      <td>...</td>\n",
       "      <td>...</td>\n",
       "    </tr>\n",
       "    <tr>\n",
       "      <th>8764</th>\n",
       "      <td>1.261143</td>\n",
       "      <td>1.160194</td>\n",
       "      <td>1.047185</td>\n",
       "      <td>0.647051</td>\n",
       "      <td>0.804242</td>\n",
       "      <td>-0.234243</td>\n",
       "      <td>0.643657</td>\n",
       "      <td>0.966688</td>\n",
       "      <td>0.324432</td>\n",
       "      <td>0.164559</td>\n",
       "    </tr>\n",
       "    <tr>\n",
       "      <th>4359</th>\n",
       "      <td>-1.085436</td>\n",
       "      <td>0.492319</td>\n",
       "      <td>-1.029464</td>\n",
       "      <td>0.828044</td>\n",
       "      <td>-0.926551</td>\n",
       "      <td>0.143134</td>\n",
       "      <td>0.643657</td>\n",
       "      <td>-1.034460</td>\n",
       "      <td>0.324432</td>\n",
       "      <td>0.250715</td>\n",
       "    </tr>\n",
       "    <tr>\n",
       "      <th>2041</th>\n",
       "      <td>1.950708</td>\n",
       "      <td>0.015266</td>\n",
       "      <td>-1.375573</td>\n",
       "      <td>0.308194</td>\n",
       "      <td>-0.926551</td>\n",
       "      <td>-0.272747</td>\n",
       "      <td>0.643657</td>\n",
       "      <td>-1.034460</td>\n",
       "      <td>0.161548</td>\n",
       "      <td>0.250715</td>\n",
       "    </tr>\n",
       "    <tr>\n",
       "      <th>1108</th>\n",
       "      <td>0.293694</td>\n",
       "      <td>-0.080145</td>\n",
       "      <td>0.701077</td>\n",
       "      <td>0.556988</td>\n",
       "      <td>0.804242</td>\n",
       "      <td>-0.933066</td>\n",
       "      <td>0.643657</td>\n",
       "      <td>-1.034460</td>\n",
       "      <td>0.324432</td>\n",
       "      <td>0.164559</td>\n",
       "    </tr>\n",
       "    <tr>\n",
       "      <th>3332</th>\n",
       "      <td>0.870047</td>\n",
       "      <td>-0.748020</td>\n",
       "      <td>-0.683356</td>\n",
       "      <td>0.700696</td>\n",
       "      <td>-0.926551</td>\n",
       "      <td>-0.473807</td>\n",
       "      <td>-1.553624</td>\n",
       "      <td>-1.034460</td>\n",
       "      <td>0.161548</td>\n",
       "      <td>0.164559</td>\n",
       "    </tr>\n",
       "  </tbody>\n",
       "</table>\n",
       "<p>2500 rows × 10 columns</p>\n",
       "</div>"
      ],
      "text/plain": [
       "      CreditScore       Age    Tenure   Balance  NumOfProducts  \\\n",
       "9394    -0.550251 -0.366377  1.047185  0.884943      -0.926551   \n",
       "898     -1.311860  0.110676 -1.029464  0.435867      -0.926551   \n",
       "2398     0.571579  0.301498  1.047185  0.314864      -0.926551   \n",
       "5906     1.415524 -0.652609 -0.337248  0.581318      -0.926551   \n",
       "2343     0.571579 -0.080145  0.008860  1.394678       0.804242   \n",
       "...           ...       ...       ...       ...            ...   \n",
       "8764     1.261143  1.160194  1.047185  0.647051       0.804242   \n",
       "4359    -1.085436  0.492319 -1.029464  0.828044      -0.926551   \n",
       "2041     1.950708  0.015266 -1.375573  0.308194      -0.926551   \n",
       "1108     0.293694 -0.080145  0.701077  0.556988       0.804242   \n",
       "3332     0.870047 -0.748020 -0.683356  0.700696      -0.926551   \n",
       "\n",
       "      EstimatedSalary  HasCrCard  IsActiveMember  Geography    Gender  \n",
       "9394         1.612030   0.643657        0.966688   0.324432  0.250715  \n",
       "898          0.496269   0.643657       -1.034460   0.161548  0.250715  \n",
       "2398        -0.425028   0.643657        0.966688   0.166734  0.250715  \n",
       "5906        -0.187853  -1.553624       -1.034460   0.161548  0.164559  \n",
       "2343         0.617324   0.643657        0.966688   0.324432  0.164559  \n",
       "...               ...        ...             ...        ...       ...  \n",
       "8764        -0.234243   0.643657        0.966688   0.324432  0.164559  \n",
       "4359         0.143134   0.643657       -1.034460   0.324432  0.250715  \n",
       "2041        -0.272747   0.643657       -1.034460   0.161548  0.250715  \n",
       "1108        -0.933066   0.643657       -1.034460   0.324432  0.164559  \n",
       "3332        -0.473807  -1.553624       -1.034460   0.161548  0.164559  \n",
       "\n",
       "[2500 rows x 10 columns]"
      ]
     },
     "execution_count": 36,
     "metadata": {},
     "output_type": "execute_result"
    }
   ],
   "source": [
    "Xs_test"
   ]
  },
  {
   "cell_type": "code",
   "execution_count": 37,
   "id": "04e8def1-6321-4e78-83c9-c649cef81329",
   "metadata": {},
   "outputs": [],
   "source": [
    "y_train = y_train.Exited\n",
    "y_test = y_test.Exited"
   ]
  },
  {
   "cell_type": "code",
   "execution_count": 38,
   "id": "8cae55da-bb10-4154-a81b-0af441a79d25",
   "metadata": {},
   "outputs": [
    {
     "data": {
      "text/plain": [
       "2967    1\n",
       "700     0\n",
       "3481    0\n",
       "1621    1\n",
       "800     0\n",
       "       ..\n",
       "9225    0\n",
       "4859    0\n",
       "3264    0\n",
       "9845    0\n",
       "2732    1\n",
       "Name: Exited, Length: 7500, dtype: int64"
      ]
     },
     "execution_count": 38,
     "metadata": {},
     "output_type": "execute_result"
    }
   ],
   "source": [
    "y_train"
   ]
  },
  {
   "cell_type": "markdown",
   "id": "31d857a8-6ef1-40ea-a8df-372a594d6c6f",
   "metadata": {
    "tags": []
   },
   "source": [
    "### Regressão Logística"
   ]
  },
  {
   "cell_type": "code",
   "execution_count": 39,
   "id": "623901aa-50ce-458a-bf7c-22ca4fe86d23",
   "metadata": {},
   "outputs": [
    {
     "name": "stdout",
     "output_type": "stream",
     "text": [
      "Speed: 1.57s\n",
      "AUC train: 0.77\n",
      "AUC test: 0.77\n",
      "ACC train: 0.81\n",
      "ACC test: 0.81\n",
      "f1 score train: 0.31\n",
      "f1 score test: 0.33\n"
     ]
    }
   ],
   "source": [
    "stime = timeit.default_timer()\n",
    "clr = LogisticRegression(random_state=45678, solver='lbfgs', n_jobs=-1, penalty = \"none\")\n",
    "clr.fit(Xs_train, y_train)\n",
    "\n",
    "etime = timeit.default_timer()\n",
    "lr_baseline_time = etime - stime\n",
    "print(f'Speed: {lr_baseline_time:.2f}s')\n",
    "print(f'AUC train: {metrics.roc_auc_score(y_train, clr.predict_proba(Xs_train)[:, 1]):.2f}')\n",
    "print(f'AUC test: {metrics.roc_auc_score(y_test, clr.predict_proba(Xs_test)[:, 1]):.2f}')\n",
    "print(f'ACC train: {metrics.accuracy_score(y_train, clr.predict(Xs_train)):.2f}')\n",
    "print(f'ACC test: {metrics.accuracy_score(y_test, clr.predict(Xs_test)):.2f}')\n",
    "print(f'f1 score train: {metrics.f1_score(y_train, clr.predict(Xs_train)):.2f}')\n",
    "print(f'f1 score test: {metrics.f1_score(y_test, clr.predict(Xs_test)):.2f}')"
   ]
  },
  {
   "cell_type": "code",
   "execution_count": 48,
   "id": "8286d056-927d-44ae-aa75-69288c83dbe6",
   "metadata": {},
   "outputs": [],
   "source": [
    "y_pred = clr.predict(Xs_train)"
   ]
  },
  {
   "cell_type": "code",
   "execution_count": 49,
   "id": "4e9824f7-0281-472e-91a1-d239077e0603",
   "metadata": {},
   "outputs": [
    {
     "data": {
      "text/plain": [
       "array([[1905,   86],\n",
       "       [ 393,  116]], dtype=int64)"
      ]
     },
     "execution_count": 49,
     "metadata": {},
     "output_type": "execute_result"
    }
   ],
   "source": [
    "conma = metrics.confusion_matrix(y_test, clr.predict(Xs_test))\n",
    "conma"
   ]
  },
  {
   "cell_type": "code",
   "execution_count": 51,
   "id": "fd463525-8e7b-426f-9d4c-6b2e5a73b8e4",
   "metadata": {
    "tags": []
   },
   "outputs": [
    {
     "data": {
      "text/plain": [
       "<sklearn.metrics._plot.confusion_matrix.ConfusionMatrixDisplay at 0x2402405f100>"
      ]
     },
     "execution_count": 51,
     "metadata": {},
     "output_type": "execute_result"
    },
    {
     "data": {
      "image/png": "[encoded data removed]",
      "text/plain": [
       "<Figure size 432x288 with 2 Axes>"
      ]
     },
     "metadata": {
      "needs_background": "light"
     },
     "output_type": "display_data"
    }
   ],
   "source": [
    "metrics.ConfusionMatrixDisplay(conma).plot()"
   ]
  },
  {
   "cell_type": "markdown",
   "id": "24cab7d7-9174-412d-ba42-bbaf2735ee28",
   "metadata": {},
   "source": [
    "#### Cross Validation"
   ]
  },
  {
   "cell_type": "code",
   "execution_count": 63,
   "id": "281f3602-eabb-452a-a723-9134697aa444",
   "metadata": {},
   "outputs": [],
   "source": [
    "scores = cross_val_score(clr, Xs_train, y_train, cv =10)\n",
    "AUC = cross_val_score(clr, Xs_train, y_train, cv =10, scoring = 'roc_auc')\n",
    "f1 = cross_val_score(clr, Xs_train, y_train, cv =10, scoring = 'f1')"
   ]
  },
  {
   "cell_type": "code",
   "execution_count": 64,
   "id": "784be176-33df-4fae-b3c5-8bdab293c8fa",
   "metadata": {},
   "outputs": [],
   "source": [
    "scorings = ['f1', 'accuracy', 'roc_auc']"
   ]
  },
  {
   "cell_type": "code",
   "execution_count": 65,
   "id": "db1feda7-d4d6-4e38-aaf0-507d54fe7d91",
   "metadata": {},
   "outputs": [],
   "source": [
    "f1 = cross_validate(clr, Xs_train, y_train, cv =10, scoring = scorings)"
   ]
  },
  {
   "cell_type": "code",
   "execution_count": 66,
   "id": "93c689fc-3cd7-4a23-a064-991257bf5e12",
   "metadata": {},
   "outputs": [
    {
     "data": {
      "text/plain": [
       "['fit_time', 'score_time', 'test_accuracy', 'test_f1', 'test_roc_auc']"
      ]
     },
     "execution_count": 66,
     "metadata": {},
     "output_type": "execute_result"
    }
   ],
   "source": [
    "sorted(f1.keys())"
   ]
  },
  {
   "cell_type": "code",
   "execution_count": 67,
   "id": "e6f26cb9-c08d-48d2-b1a1-9d3cee730ce6",
   "metadata": {},
   "outputs": [],
   "source": [
    "y_pred = clr.predict(Xs_test)"
   ]
  },
  {
   "cell_type": "code",
   "execution_count": 68,
   "id": "efd012bc-1ee0-41a1-99fa-dfbd6c0f75a7",
   "metadata": {},
   "outputs": [
    {
     "data": {
      "text/plain": [
       "0.7631182183684271"
      ]
     },
     "execution_count": 68,
     "metadata": {},
     "output_type": "execute_result"
    }
   ],
   "source": [
    "AUC.mean()"
   ]
  },
  {
   "cell_type": "code",
   "execution_count": 61,
   "id": "bf210c0f-aea4-487e-a49b-b8af9a44b048",
   "metadata": {},
   "outputs": [
    {
     "name": "stdout",
     "output_type": "stream",
     "text": [
      "              precision    recall  f1-score   support\n",
      "\n",
      "           0       0.83      0.96      0.89      1991\n",
      "           1       0.57      0.23      0.33       509\n",
      "\n",
      "    accuracy                           0.81      2500\n",
      "   macro avg       0.70      0.59      0.61      2500\n",
      "weighted avg       0.78      0.81      0.77      2500\n",
      "\n"
     ]
    }
   ],
   "source": [
    "from sklearn.metrics import classification_report\n",
    "print(classification_report(y_test, y_pred))"
   ]
  },
  {
   "cell_type": "markdown",
   "id": "ca78324d-cdd6-4d09-bcaf-9d6676a472ec",
   "metadata": {
    "tags": []
   },
   "source": [
    "### Random Forest"
   ]
  },
  {
   "cell_type": "code",
   "execution_count": 72,
   "id": "c0d6e262-ff8f-44a7-be72-9fd5dcb11207",
   "metadata": {},
   "outputs": [
    {
     "name": "stdout",
     "output_type": "stream",
     "text": [
      "Speed: 1.68s\n",
      "AUC train: 0.94\n",
      "AUC test: 0.88\n",
      "f1 score train: 0.64\n",
      "f1 score test: 0.60\n"
     ]
    }
   ],
   "source": [
    "stime = timeit.default_timer()\n",
    "\n",
    "rf_clf = RandomForestClassifier(\n",
    "    n_estimators=294,\n",
    "    criterion='entropy',\n",
    "    max_depth=10,\n",
    "    min_samples_split = 7,\n",
    "    min_samples_leaf = 4,\n",
    "    max_samples = 0.673861043631317,\n",
    "    max_features='sqrt',\n",
    "    random_state= 0\n",
    ")\n",
    "\n",
    "rf_clf.fit(Xs_train, y_train)\n",
    "\n",
    "etime = timeit.default_timer()\n",
    "\n",
    "rf_clf_baseline_time = etime - stime\n",
    "rf_clf_y_train_predict = rf_clf.predict_proba(Xs_train)[:, 1]\n",
    "\n",
    "print(f'Speed: {rf_clf_baseline_time:.2f}s')\n",
    "print(f'AUC train: {roc_auc_score(y_train, rf_clf_y_train_predict):.2f}')\n",
    "print(f'AUC test: {metrics.roc_auc_score(y_test, rf_clf.predict_proba(Xs_test)[:, 1]):.2f}')\n",
    "print(f'f1 score train: {metrics.f1_score(y_train, rf_clf.predict(Xs_train)):.2f}')\n",
    "print(f'f1 score test: {metrics.f1_score(y_test, rf_clf.predict(Xs_test)):.2f}')"
   ]
  },
  {
   "cell_type": "code",
   "execution_count": 73,
   "id": "b4dfda09-36e2-4e41-86ba-39ef3768e868",
   "metadata": {
    "tags": []
   },
   "outputs": [
    {
     "data": {
      "text/plain": [
       "array([[1922,   69],\n",
       "       [ 264,  245]], dtype=int64)"
      ]
     },
     "execution_count": 73,
     "metadata": {},
     "output_type": "execute_result"
    }
   ],
   "source": [
    "conma = metrics.confusion_matrix(y_test, rf_clf.predict(Xs_test))\n",
    "conma"
   ]
  },
  {
   "cell_type": "code",
   "execution_count": 74,
   "id": "1f746a18-4ff0-45aa-bb91-dd3ac3af9d48",
   "metadata": {
    "tags": []
   },
   "outputs": [
    {
     "data": {
      "text/plain": [
       "<sklearn.metrics._plot.confusion_matrix.ConfusionMatrixDisplay at 0x24025c26ca0>"
      ]
     },
     "execution_count": 74,
     "metadata": {},
     "output_type": "execute_result"
    },
    {
     "data": {
      "image/png": "[encoded data removed]",
      "text/plain": [
       "<Figure size 432x288 with 2 Axes>"
      ]
     },
     "metadata": {
      "needs_background": "light"
     },
     "output_type": "display_data"
    }
   ],
   "source": [
    "metrics.ConfusionMatrixDisplay(conma).plot()"
   ]
  },
  {
   "cell_type": "markdown",
   "id": "18395913-2ed8-4d48-be92-066a40b04852",
   "metadata": {},
   "source": [
    "### Gradient Boosting"
   ]
  },
  {
   "cell_type": "code",
   "execution_count": 77,
   "id": "b3bc8c10-8ba7-49f7-b3b0-3323ea01463a",
   "metadata": {},
   "outputs": [
    {
     "name": "stdout",
     "output_type": "stream",
     "text": [
      "AUC train: 0.92\n",
      "AUC test: 0.85\n",
      "ACC train: 0.89\n",
      "ACC test: 0.86\n",
      "f1 score train: 0.69\n",
      "f1 score test: 0.60\n"
     ]
    }
   ],
   "source": [
    "gbc = GradientBoostingClassifier(n_estimators=100, learning_rate=1.0,\n",
    "...     max_depth=2, random_state=0).fit(Xs_train, y_train)\n",
    ">>> gbc.score(Xs_test, y_test)\n",
    "gb_clf_y_train_predict = gbc.predict_proba(Xs_train)[:, 1]\n",
    "\n",
    "print(f'AUC train: {roc_auc_score(y_train, gb_clf_y_train_predict):.2f}')\n",
    "print(f'AUC test: {metrics.roc_auc_score(y_test, gbc.predict_proba(Xs_test)[:, 1]):.2f}')\n",
    "print(f'ACC train: {metrics.accuracy_score(y_train, gbc.predict(Xs_train)):.2f}')\n",
    "print(f'ACC test: {metrics.accuracy_score(y_test, gbc.predict(Xs_test)):.2f}')\n",
    "print(f'f1 score train: {metrics.f1_score(y_train, gbc.predict(Xs_train)):.2f}')\n",
    "print(f'f1 score test: {metrics.f1_score(y_test, gbc.predict(Xs_test)):.2f}')"
   ]
  },
  {
   "cell_type": "markdown",
   "id": "e9e9e47b-c643-4548-b754-023ebbe14b45",
   "metadata": {},
   "source": [
    "### XGBoosting"
   ]
  },
  {
   "cell_type": "code",
   "execution_count": 78,
   "id": "837e9dcf-18ac-46c0-86dc-421049818307",
   "metadata": {},
   "outputs": [],
   "source": [
    "classificador_xgb = xgb.XGBClassifier()"
   ]
  },
  {
   "cell_type": "code",
   "execution_count": 79,
   "id": "3196a0fd-77e2-42aa-a314-c2251de05701",
   "metadata": {},
   "outputs": [
    {
     "data": {
      "text/plain": [
       "xgboost.sklearn.XGBClassifier"
      ]
     },
     "execution_count": 79,
     "metadata": {},
     "output_type": "execute_result"
    }
   ],
   "source": [
    "type(classificador_xgb)"
   ]
  },
  {
   "cell_type": "code",
   "execution_count": 80,
   "id": "de1733f3-67f6-41ee-ac02-71e07fe22361",
   "metadata": {},
   "outputs": [
    {
     "data": {
      "text/plain": [
       "array([0.846     , 0.85266667, 0.84733333, 0.848     , 0.85466667])"
      ]
     },
     "execution_count": 80,
     "metadata": {},
     "output_type": "execute_result"
    }
   ],
   "source": [
    "from sklearn.model_selection import cross_val_score\n",
    "\n",
    "resultado_cv = cross_val_score(classificador_xgb, Xs_train, y_train)\n",
    "resultado_cv"
   ]
  },
  {
   "cell_type": "code",
   "execution_count": 81,
   "id": "dab03bd4-3bcc-4d59-88ef-eb13fe2d7992",
   "metadata": {},
   "outputs": [
    {
     "data": {
      "text/plain": [
       "0.8497333333333333"
      ]
     },
     "execution_count": 81,
     "metadata": {},
     "output_type": "execute_result"
    }
   ],
   "source": [
    "resultado_cv.mean()"
   ]
  },
  {
   "cell_type": "code",
   "execution_count": 82,
   "id": "1aba86a3-49df-4871-a756-580cb13e5917",
   "metadata": {},
   "outputs": [
    {
     "data": {
      "text/plain": [
       "86.32"
      ]
     },
     "execution_count": 82,
     "metadata": {},
     "output_type": "execute_result"
    }
   ],
   "source": [
    "classificador_xgb_tunado = xgb.XGBClassifier(max_depth=2, eta= 0.35)\n",
    "100 * cross_val_score(classificador_xgb_tunado, Xs_train, y_train).mean()"
   ]
  },
  {
   "cell_type": "code",
   "execution_count": 83,
   "id": "6bffc73c-b4c4-4646-86e7-7ced91a466f8",
   "metadata": {},
   "outputs": [
    {
     "data": {
      "text/plain": [
       "84.97333333333333"
      ]
     },
     "execution_count": 83,
     "metadata": {},
     "output_type": "execute_result"
    }
   ],
   "source": [
    "classificador_xgb_dart = xgb.XGBClassifier(booster='dart')\n",
    "100 * cross_val_score(classificador_xgb_dart, Xs_train, y_train).mean()"
   ]
  },
  {
   "cell_type": "code",
   "execution_count": 84,
   "id": "2670882f-998a-4368-973a-b82d0d593b9b",
   "metadata": {},
   "outputs": [
    {
     "data": {
      "text/plain": [
       "81.16"
      ]
     },
     "execution_count": 84,
     "metadata": {},
     "output_type": "execute_result"
    }
   ],
   "source": [
    "classificador_xgb_gblinear = xgb.XGBClassifier(booster='gblinear')\n",
    "100 * cross_val_score(classificador_xgb_gblinear, Xs_train, y_train).mean()"
   ]
  },
  {
   "cell_type": "code",
   "execution_count": 85,
   "id": "6a05cc2c-0da4-4fa6-8200-25b94002771e",
   "metadata": {},
   "outputs": [],
   "source": [
    "classificador_campeao = classificador_xgb_tunado"
   ]
  },
  {
   "cell_type": "code",
   "execution_count": 86,
   "id": "c29608fa-6ec8-4ae6-86b3-19eae08bc30f",
   "metadata": {},
   "outputs": [
    {
     "data": {
      "text/plain": [
       "XGBClassifier(base_score=0.5, booster='gbtree', callbacks=None,\n",
       "              colsample_bylevel=1, colsample_bynode=1, colsample_bytree=1,\n",
       "              early_stopping_rounds=None, enable_categorical=False, eta=0.35,\n",
       "              eval_metric=None, gamma=0, gpu_id=-1, grow_policy='depthwise',\n",
       "              importance_type=None, interaction_constraints='',\n",
       "              learning_rate=0.349999994, max_bin=256, max_cat_to_onehot=4,\n",
       "              max_delta_step=0, max_depth=2, max_leaves=0, min_child_weight=1,\n",
       "              missing=nan, monotone_constraints='()', n_estimators=100,\n",
       "              n_jobs=0, num_parallel_tree=1, predictor='auto', random_state=0,\n",
       "              reg_alpha=0, ...)"
      ]
     },
     "execution_count": 86,
     "metadata": {},
     "output_type": "execute_result"
    }
   ],
   "source": [
    "classificador_campeao.fit(Xs_train, y_train)"
   ]
  },
  {
   "cell_type": "code",
   "execution_count": 87,
   "id": "01fcf7d4-f545-44fd-a0c0-98c42ed35f6d",
   "metadata": {},
   "outputs": [
    {
     "name": "stdout",
     "output_type": "stream",
     "text": [
      "AUC train: 0.89\n",
      "AUC test: 0.87\n",
      "ACC train: 0.87\n",
      "ACC test: 0.87\n",
      "f1 score train: 0.62\n",
      "f1 score test: 0.61\n"
     ]
    }
   ],
   "source": [
    "xgb_y_train_predict = classificador_campeao.predict_proba(Xs_train)[:, 1]\n",
    "\n",
    "\n",
    "print(f'AUC train: {roc_auc_score(y_train, xgb_y_train_predict):.2f}')\n",
    "print(f'AUC test: {metrics.roc_auc_score(y_test, classificador_campeao.predict_proba(Xs_test)[:, 1]):.2f}')\n",
    "print(f'ACC train: {metrics.accuracy_score(y_train, classificador_campeao.predict(Xs_train)):.2f}')\n",
    "print(f'ACC test: {metrics.accuracy_score(y_test, classificador_campeao.predict(Xs_test)):.2f}')\n",
    "print(f'f1 score train: {metrics.f1_score(y_train, classificador_campeao.predict(Xs_train)):.2f}')\n",
    "print(f'f1 score test: {metrics.f1_score(y_test, classificador_campeao.predict(Xs_test)):.2f}')"
   ]
  },
  {
   "cell_type": "code",
   "execution_count": 88,
   "id": "3956ce25-a1ee-4e01-900c-79b9d2c7fec8",
   "metadata": {
    "tags": []
   },
   "outputs": [
    {
     "data": {
      "text/plain": [
       "array([[1897,   94],\n",
       "       [ 242,  267]], dtype=int64)"
      ]
     },
     "execution_count": 88,
     "metadata": {},
     "output_type": "execute_result"
    }
   ],
   "source": [
    "conma = metrics.confusion_matrix(y_test, classificador_campeao.predict(Xs_test))\n",
    "conma"
   ]
  },
  {
   "cell_type": "code",
   "execution_count": 89,
   "id": "3a7d6ef1-c87f-4d2c-8961-28c8853f1bd9",
   "metadata": {
    "tags": []
   },
   "outputs": [
    {
     "data": {
      "text/plain": [
       "<sklearn.metrics._plot.confusion_matrix.ConfusionMatrixDisplay at 0x24023e93430>"
      ]
     },
     "execution_count": 89,
     "metadata": {},
     "output_type": "execute_result"
    },
    {
     "data": {
      "image/png": "[encoded data removed]",
      "text/plain": [
       "<Figure size 432x288 with 2 Axes>"
      ]
     },
     "metadata": {
      "needs_background": "light"
     },
     "output_type": "display_data"
    }
   ],
   "source": [
    "metrics.ConfusionMatrixDisplay(conma).plot()"
   ]
  },
  {
   "cell_type": "markdown",
   "id": "882e3d37-bd1c-410e-959b-622fd33f245a",
   "metadata": {},
   "source": [
    "### Naive Bayes"
   ]
  },
  {
   "cell_type": "code",
   "execution_count": 151,
   "id": "a89f0286-0342-4285-8108-d6a201e5110d",
   "metadata": {},
   "outputs": [],
   "source": [
    "from sklearn.naive_bayes import GaussianNB\n",
    "gnb = GaussianNB()"
   ]
  },
  {
   "cell_type": "code",
   "execution_count": 153,
   "id": "c4997f8b-c314-4bb4-99c3-72db85b5d693",
   "metadata": {},
   "outputs": [
    {
     "name": "stdout",
     "output_type": "stream",
     "text": [
      "AUC train: 0.80\n",
      "AUC test: 0.80\n",
      "ACC train: 0.83\n",
      "ACC test: 0.83\n",
      "f1 score train: 0.43\n",
      "f1 score test: 0.46\n"
     ]
    }
   ],
   "source": [
    "gnb.fit(Xs_train, y_train)\n",
    "gnb_y_train_predict = gnb.predict_proba(Xs_train)[:, 1]\n",
    "\n",
    "\n",
    "print(f'AUC train: {roc_auc_score(y_train, gnb_y_train_predict):.2f}')\n",
    "print(f'AUC test: {metrics.roc_auc_score(y_test, gnb.predict_proba(Xs_test)[:, 1]):.2f}')\n",
    "print(f'ACC train: {metrics.accuracy_score(y_train, gnb.predict(Xs_train)):.2f}')\n",
    "print(f'ACC test: {metrics.accuracy_score(y_test, gnb.predict(Xs_test)):.2f}')\n",
    "print(f'f1 score train: {metrics.f1_score(y_train, gnb.predict(Xs_train)):.2f}')\n",
    "print(f'f1 score test: {metrics.f1_score(y_test, gnb.predict(Xs_test)):.2f}')"
   ]
  },
  {
   "cell_type": "code",
   "execution_count": 155,
   "id": "c76a7b47-3249-4cc6-b4df-f33c9f1b17f8",
   "metadata": {
    "tags": []
   },
   "outputs": [
    {
     "data": {
      "text/plain": [
       "array([[1877,  114],\n",
       "       [ 323,  186]], dtype=int64)"
      ]
     },
     "execution_count": 155,
     "metadata": {},
     "output_type": "execute_result"
    }
   ],
   "source": [
    "conma = metrics.confusion_matrix(y_test, gnb.predict(Xs_test))\n",
    "conma"
   ]
  },
  {
   "cell_type": "code",
   "execution_count": 156,
   "id": "2f8add7d-2c03-45f1-a8a8-b0b3c3b1d877",
   "metadata": {
    "tags": []
   },
   "outputs": [
    {
     "data": {
      "text/plain": [
       "<sklearn.metrics._plot.confusion_matrix.ConfusionMatrixDisplay at 0x28dbe2ee2b0>"
      ]
     },
     "execution_count": 156,
     "metadata": {},
     "output_type": "execute_result"
    },
    {
     "data": {
      "image/png": "[encoded data removed]",
      "text/plain": [
       "<Figure size 432x288 with 2 Axes>"
      ]
     },
     "metadata": {
      "needs_background": "light"
     },
     "output_type": "display_data"
    }
   ],
   "source": [
    "metrics.ConfusionMatrixDisplay(conma).plot()"
   ]
  },
  {
   "cell_type": "markdown",
   "id": "d46688e9-e203-495c-8e03-25a00fec7c4e",
   "metadata": {
    "tags": []
   },
   "source": [
    "### Otimização de Hiperparâmetros"
   ]
  },
  {
   "cell_type": "code",
   "execution_count": 197,
   "id": "8e32fa95-7515-4d49-8430-1f12829fc8f5",
   "metadata": {},
   "outputs": [
    {
     "data": {
      "text/plain": [
       "GridSearchCV(estimator=XGBClassifier(base_score=None, booster=None,\n",
       "                                     callbacks=None, colsample_bylevel=None,\n",
       "                                     colsample_bynode=None,\n",
       "                                     colsample_bytree=None,\n",
       "                                     early_stopping_rounds=None,\n",
       "                                     enable_categorical=False, eval_metric=None,\n",
       "                                     gamma=None, gpu_id=None, grow_policy=None,\n",
       "                                     importance_type=None,\n",
       "                                     interaction_constraints=None,\n",
       "                                     learning_rate=None, max_bin=None,\n",
       "                                     max_cat_to_onehot=None,\n",
       "                                     max_delta_step=None, max_depth=None,\n",
       "                                     max_leaves=None, min_child_weight=None,\n",
       "                                     missing=nan, monotone_constraints=None,\n",
       "                                     n_estimators=100, n_jobs=None,\n",
       "                                     num_parallel_tree=None, predictor=None,\n",
       "                                     random_state=None, reg_alpha=None,\n",
       "                                     reg_lambda=None, ...),\n",
       "             param_grid={'booster': ('gblinear', 'dart', 'gbtree')})"
      ]
     },
     "execution_count": 197,
     "metadata": {},
     "output_type": "execute_result"
    }
   ],
   "source": [
    "from sklearn.model_selection import GridSearchCV\n",
    "# mudar de acordo com o modelo encontrado\n",
    "pipeline = GridSearchCV(classificador_xgb, hiperparameters)\n",
    "hiperparameters = {'booster':('gblinear', 'dart', 'gbtree')}\n",
    "pipeline.fit(Xs_train, y_train)\n",
    "pipeline.best_params_\n",
    "pipeline"
   ]
  },
  {
   "cell_type": "markdown",
   "id": "b4122e66-3c83-4e84-9d36-925b3caa328b",
   "metadata": {},
   "source": [
    "### Novo Cliente"
   ]
  },
  {
   "cell_type": "code",
   "execution_count": null,
   "id": "b7f6ba4c-b3ee-46d9-b28b-9f6d76efa4e2",
   "metadata": {},
   "outputs": [],
   "source": [
    "#NOVO CLIENTE\n",
    "#QUAIS SERIAM OS DEFAULT VALUES CASO O CLIENTE NÃO FORNEÇA ALGUM DADO? SERIA A MÉDIA?\n",
    "\n",
    "CreditScore =  \n",
    "Age = \n",
    "Tenure = \n",
    "Balance = \n",
    "NumOfProducts = \n",
    "HasCrCard = \n",
    "IsActiveMember =\n",
    "EstimatedSalary = \n",
    "Geography = \n",
    "Gender = \n",
    "\n",
    "Parametro = [[CreditScore, Age, Tenure, Balance, NumOfProducts, HasCrCard, IsActiveMember, EstimatedSalary, Geography, Gender]]\n",
    "\n",
    "Fazendo_Previsao = funcao_logistica.predict(Parametro)\n",
    "Probabilidade = funcao_logistica.predict_proba(Parametro)\n",
    "\n",
    "if Fazendo_Previsao == 0:\n",
    "    print('Retenção')\n",
    "    print(Probabilidade)\n",
    "    \n",
    "else:\n",
    "    print('Churn')\n",
    "    print(Probabilidade)"
   ]
  }
 ],
 "metadata": {
  "kernelspec": {
   "display_name": "Python 3 (ipykernel)",
   "language": "python",
   "name": "python3"
  },
  "language_info": {
   "codemirror_mode": {
    "name": "ipython",
    "version": 3
   },
   "file_extension": ".py",
   "mimetype": "text/x-python",
   "name": "python",
   "nbconvert_exporter": "python",
   "pygments_lexer": "ipython3",
   "version": "3.9.12"
  }
 },
 "nbformat": 4,
 "nbformat_minor": 5
}
